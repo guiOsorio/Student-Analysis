{
 "cells": [
  {
   "cell_type": "markdown",
   "id": "1820b087",
   "metadata": {},
   "source": [
    "This project consists of a regression analysis of student data extracted from the UCI Machine Learning Repository (https://archive.ics.uci.edu/ml/datasets/Student+Performance).\n",
    "\n",
    "Goals of this project:\n",
    "- Discover significant variables to use when predicting a student's high school grade:\n",
    "    - See if variables change depending on subject;\n",
    "    - See if variables change depending on school;"
   ]
  },
  {
   "cell_type": "code",
   "execution_count": 2,
   "id": "b2b87917",
   "metadata": {},
   "outputs": [],
   "source": [
    "import numpy as np\n",
    "import pandas as pd\n",
    "import matplotlib.pyplot as plt\n",
    "import seaborn as sns\n",
    "from scipy import stats\n",
    "import statsmodels.api as sm\n",
    "from statsmodels.formula.api import logit, probit, ols"
   ]
  },
  {
   "cell_type": "code",
   "execution_count": 8,
   "id": "c618097f",
   "metadata": {},
   "outputs": [],
   "source": [
    "data_math = pd.read_csv('./student/student-mat.csv')\n",
    "data_port = pd.read_csv('./student/student-por.csv')"
   ]
  },
  {
   "cell_type": "code",
   "execution_count": 10,
   "id": "9bfb79fd",
   "metadata": {},
   "outputs": [
    {
     "data": {
      "text/html": [
       "<div>\n",
       "<style scoped>\n",
       "    .dataframe tbody tr th:only-of-type {\n",
       "        vertical-align: middle;\n",
       "    }\n",
       "\n",
       "    .dataframe tbody tr th {\n",
       "        vertical-align: top;\n",
       "    }\n",
       "\n",
       "    .dataframe thead th {\n",
       "        text-align: right;\n",
       "    }\n",
       "</style>\n",
       "<table border=\"1\" class=\"dataframe\">\n",
       "  <thead>\n",
       "    <tr style=\"text-align: right;\">\n",
       "      <th></th>\n",
       "      <th>school</th>\n",
       "      <th>sex</th>\n",
       "      <th>age</th>\n",
       "      <th>address</th>\n",
       "      <th>famsize</th>\n",
       "      <th>Pstatus</th>\n",
       "      <th>Medu</th>\n",
       "      <th>Fedu</th>\n",
       "      <th>Mjob</th>\n",
       "      <th>Fjob</th>\n",
       "      <th>...</th>\n",
       "      <th>famrel</th>\n",
       "      <th>freetime</th>\n",
       "      <th>goout</th>\n",
       "      <th>Dalc</th>\n",
       "      <th>Walc</th>\n",
       "      <th>health</th>\n",
       "      <th>absences</th>\n",
       "      <th>G1</th>\n",
       "      <th>G2</th>\n",
       "      <th>G3</th>\n",
       "    </tr>\n",
       "  </thead>\n",
       "  <tbody>\n",
       "    <tr>\n",
       "      <th>0</th>\n",
       "      <td>GP</td>\n",
       "      <td>F</td>\n",
       "      <td>18</td>\n",
       "      <td>U</td>\n",
       "      <td>GT3</td>\n",
       "      <td>A</td>\n",
       "      <td>4</td>\n",
       "      <td>4</td>\n",
       "      <td>at_home</td>\n",
       "      <td>teacher</td>\n",
       "      <td>...</td>\n",
       "      <td>4</td>\n",
       "      <td>3</td>\n",
       "      <td>4</td>\n",
       "      <td>1</td>\n",
       "      <td>1</td>\n",
       "      <td>3</td>\n",
       "      <td>6</td>\n",
       "      <td>5</td>\n",
       "      <td>6</td>\n",
       "      <td>6</td>\n",
       "    </tr>\n",
       "    <tr>\n",
       "      <th>1</th>\n",
       "      <td>GP</td>\n",
       "      <td>F</td>\n",
       "      <td>17</td>\n",
       "      <td>U</td>\n",
       "      <td>GT3</td>\n",
       "      <td>T</td>\n",
       "      <td>1</td>\n",
       "      <td>1</td>\n",
       "      <td>at_home</td>\n",
       "      <td>other</td>\n",
       "      <td>...</td>\n",
       "      <td>5</td>\n",
       "      <td>3</td>\n",
       "      <td>3</td>\n",
       "      <td>1</td>\n",
       "      <td>1</td>\n",
       "      <td>3</td>\n",
       "      <td>4</td>\n",
       "      <td>5</td>\n",
       "      <td>5</td>\n",
       "      <td>6</td>\n",
       "    </tr>\n",
       "    <tr>\n",
       "      <th>2</th>\n",
       "      <td>GP</td>\n",
       "      <td>F</td>\n",
       "      <td>15</td>\n",
       "      <td>U</td>\n",
       "      <td>LE3</td>\n",
       "      <td>T</td>\n",
       "      <td>1</td>\n",
       "      <td>1</td>\n",
       "      <td>at_home</td>\n",
       "      <td>other</td>\n",
       "      <td>...</td>\n",
       "      <td>4</td>\n",
       "      <td>3</td>\n",
       "      <td>2</td>\n",
       "      <td>2</td>\n",
       "      <td>3</td>\n",
       "      <td>3</td>\n",
       "      <td>10</td>\n",
       "      <td>7</td>\n",
       "      <td>8</td>\n",
       "      <td>10</td>\n",
       "    </tr>\n",
       "    <tr>\n",
       "      <th>3</th>\n",
       "      <td>GP</td>\n",
       "      <td>F</td>\n",
       "      <td>15</td>\n",
       "      <td>U</td>\n",
       "      <td>GT3</td>\n",
       "      <td>T</td>\n",
       "      <td>4</td>\n",
       "      <td>2</td>\n",
       "      <td>health</td>\n",
       "      <td>services</td>\n",
       "      <td>...</td>\n",
       "      <td>3</td>\n",
       "      <td>2</td>\n",
       "      <td>2</td>\n",
       "      <td>1</td>\n",
       "      <td>1</td>\n",
       "      <td>5</td>\n",
       "      <td>2</td>\n",
       "      <td>15</td>\n",
       "      <td>14</td>\n",
       "      <td>15</td>\n",
       "    </tr>\n",
       "    <tr>\n",
       "      <th>4</th>\n",
       "      <td>GP</td>\n",
       "      <td>F</td>\n",
       "      <td>16</td>\n",
       "      <td>U</td>\n",
       "      <td>GT3</td>\n",
       "      <td>T</td>\n",
       "      <td>3</td>\n",
       "      <td>3</td>\n",
       "      <td>other</td>\n",
       "      <td>other</td>\n",
       "      <td>...</td>\n",
       "      <td>4</td>\n",
       "      <td>3</td>\n",
       "      <td>2</td>\n",
       "      <td>1</td>\n",
       "      <td>2</td>\n",
       "      <td>5</td>\n",
       "      <td>4</td>\n",
       "      <td>6</td>\n",
       "      <td>10</td>\n",
       "      <td>10</td>\n",
       "    </tr>\n",
       "  </tbody>\n",
       "</table>\n",
       "<p>5 rows × 33 columns</p>\n",
       "</div>"
      ],
      "text/plain": [
       "  school sex  age address famsize Pstatus  Medu  Fedu     Mjob      Fjob  ...  \\\n",
       "0     GP   F   18       U     GT3       A     4     4  at_home   teacher  ...   \n",
       "1     GP   F   17       U     GT3       T     1     1  at_home     other  ...   \n",
       "2     GP   F   15       U     LE3       T     1     1  at_home     other  ...   \n",
       "3     GP   F   15       U     GT3       T     4     2   health  services  ...   \n",
       "4     GP   F   16       U     GT3       T     3     3    other     other  ...   \n",
       "\n",
       "  famrel freetime  goout  Dalc  Walc health absences  G1  G2  G3  \n",
       "0      4        3      4     1     1      3        6   5   6   6  \n",
       "1      5        3      3     1     1      3        4   5   5   6  \n",
       "2      4        3      2     2     3      3       10   7   8  10  \n",
       "3      3        2      2     1     1      5        2  15  14  15  \n",
       "4      4        3      2     1     2      5        4   6  10  10  \n",
       "\n",
       "[5 rows x 33 columns]"
      ]
     },
     "execution_count": 10,
     "metadata": {},
     "output_type": "execute_result"
    }
   ],
   "source": [
    "data_math.head()"
   ]
  },
  {
   "cell_type": "code",
   "execution_count": 11,
   "id": "e07075ac",
   "metadata": {},
   "outputs": [
    {
     "data": {
      "text/html": [
       "<div>\n",
       "<style scoped>\n",
       "    .dataframe tbody tr th:only-of-type {\n",
       "        vertical-align: middle;\n",
       "    }\n",
       "\n",
       "    .dataframe tbody tr th {\n",
       "        vertical-align: top;\n",
       "    }\n",
       "\n",
       "    .dataframe thead th {\n",
       "        text-align: right;\n",
       "    }\n",
       "</style>\n",
       "<table border=\"1\" class=\"dataframe\">\n",
       "  <thead>\n",
       "    <tr style=\"text-align: right;\">\n",
       "      <th></th>\n",
       "      <th>school</th>\n",
       "      <th>sex</th>\n",
       "      <th>age</th>\n",
       "      <th>address</th>\n",
       "      <th>famsize</th>\n",
       "      <th>Pstatus</th>\n",
       "      <th>Medu</th>\n",
       "      <th>Fedu</th>\n",
       "      <th>Mjob</th>\n",
       "      <th>Fjob</th>\n",
       "      <th>...</th>\n",
       "      <th>famrel</th>\n",
       "      <th>freetime</th>\n",
       "      <th>goout</th>\n",
       "      <th>Dalc</th>\n",
       "      <th>Walc</th>\n",
       "      <th>health</th>\n",
       "      <th>absences</th>\n",
       "      <th>G1</th>\n",
       "      <th>G2</th>\n",
       "      <th>G3</th>\n",
       "    </tr>\n",
       "  </thead>\n",
       "  <tbody>\n",
       "    <tr>\n",
       "      <th>0</th>\n",
       "      <td>GP</td>\n",
       "      <td>F</td>\n",
       "      <td>18</td>\n",
       "      <td>U</td>\n",
       "      <td>GT3</td>\n",
       "      <td>A</td>\n",
       "      <td>4</td>\n",
       "      <td>4</td>\n",
       "      <td>at_home</td>\n",
       "      <td>teacher</td>\n",
       "      <td>...</td>\n",
       "      <td>4</td>\n",
       "      <td>3</td>\n",
       "      <td>4</td>\n",
       "      <td>1</td>\n",
       "      <td>1</td>\n",
       "      <td>3</td>\n",
       "      <td>4</td>\n",
       "      <td>0</td>\n",
       "      <td>11</td>\n",
       "      <td>11</td>\n",
       "    </tr>\n",
       "    <tr>\n",
       "      <th>1</th>\n",
       "      <td>GP</td>\n",
       "      <td>F</td>\n",
       "      <td>17</td>\n",
       "      <td>U</td>\n",
       "      <td>GT3</td>\n",
       "      <td>T</td>\n",
       "      <td>1</td>\n",
       "      <td>1</td>\n",
       "      <td>at_home</td>\n",
       "      <td>other</td>\n",
       "      <td>...</td>\n",
       "      <td>5</td>\n",
       "      <td>3</td>\n",
       "      <td>3</td>\n",
       "      <td>1</td>\n",
       "      <td>1</td>\n",
       "      <td>3</td>\n",
       "      <td>2</td>\n",
       "      <td>9</td>\n",
       "      <td>11</td>\n",
       "      <td>11</td>\n",
       "    </tr>\n",
       "    <tr>\n",
       "      <th>2</th>\n",
       "      <td>GP</td>\n",
       "      <td>F</td>\n",
       "      <td>15</td>\n",
       "      <td>U</td>\n",
       "      <td>LE3</td>\n",
       "      <td>T</td>\n",
       "      <td>1</td>\n",
       "      <td>1</td>\n",
       "      <td>at_home</td>\n",
       "      <td>other</td>\n",
       "      <td>...</td>\n",
       "      <td>4</td>\n",
       "      <td>3</td>\n",
       "      <td>2</td>\n",
       "      <td>2</td>\n",
       "      <td>3</td>\n",
       "      <td>3</td>\n",
       "      <td>6</td>\n",
       "      <td>12</td>\n",
       "      <td>13</td>\n",
       "      <td>12</td>\n",
       "    </tr>\n",
       "    <tr>\n",
       "      <th>3</th>\n",
       "      <td>GP</td>\n",
       "      <td>F</td>\n",
       "      <td>15</td>\n",
       "      <td>U</td>\n",
       "      <td>GT3</td>\n",
       "      <td>T</td>\n",
       "      <td>4</td>\n",
       "      <td>2</td>\n",
       "      <td>health</td>\n",
       "      <td>services</td>\n",
       "      <td>...</td>\n",
       "      <td>3</td>\n",
       "      <td>2</td>\n",
       "      <td>2</td>\n",
       "      <td>1</td>\n",
       "      <td>1</td>\n",
       "      <td>5</td>\n",
       "      <td>0</td>\n",
       "      <td>14</td>\n",
       "      <td>14</td>\n",
       "      <td>14</td>\n",
       "    </tr>\n",
       "    <tr>\n",
       "      <th>4</th>\n",
       "      <td>GP</td>\n",
       "      <td>F</td>\n",
       "      <td>16</td>\n",
       "      <td>U</td>\n",
       "      <td>GT3</td>\n",
       "      <td>T</td>\n",
       "      <td>3</td>\n",
       "      <td>3</td>\n",
       "      <td>other</td>\n",
       "      <td>other</td>\n",
       "      <td>...</td>\n",
       "      <td>4</td>\n",
       "      <td>3</td>\n",
       "      <td>2</td>\n",
       "      <td>1</td>\n",
       "      <td>2</td>\n",
       "      <td>5</td>\n",
       "      <td>0</td>\n",
       "      <td>11</td>\n",
       "      <td>13</td>\n",
       "      <td>13</td>\n",
       "    </tr>\n",
       "  </tbody>\n",
       "</table>\n",
       "<p>5 rows × 33 columns</p>\n",
       "</div>"
      ],
      "text/plain": [
       "  school sex  age address famsize Pstatus  Medu  Fedu     Mjob      Fjob  ...  \\\n",
       "0     GP   F   18       U     GT3       A     4     4  at_home   teacher  ...   \n",
       "1     GP   F   17       U     GT3       T     1     1  at_home     other  ...   \n",
       "2     GP   F   15       U     LE3       T     1     1  at_home     other  ...   \n",
       "3     GP   F   15       U     GT3       T     4     2   health  services  ...   \n",
       "4     GP   F   16       U     GT3       T     3     3    other     other  ...   \n",
       "\n",
       "  famrel freetime  goout  Dalc  Walc health absences  G1  G2  G3  \n",
       "0      4        3      4     1     1      3        4   0  11  11  \n",
       "1      5        3      3     1     1      3        2   9  11  11  \n",
       "2      4        3      2     2     3      3        6  12  13  12  \n",
       "3      3        2      2     1     1      5        0  14  14  14  \n",
       "4      4        3      2     1     2      5        0  11  13  13  \n",
       "\n",
       "[5 rows x 33 columns]"
      ]
     },
     "execution_count": 11,
     "metadata": {},
     "output_type": "execute_result"
    }
   ],
   "source": [
    "data_port.head()"
   ]
  },
  {
   "cell_type": "code",
   "execution_count": 12,
   "id": "1d8c89cc",
   "metadata": {},
   "outputs": [
    {
     "data": {
      "text/html": [
       "<div>\n",
       "<style scoped>\n",
       "    .dataframe tbody tr th:only-of-type {\n",
       "        vertical-align: middle;\n",
       "    }\n",
       "\n",
       "    .dataframe tbody tr th {\n",
       "        vertical-align: top;\n",
       "    }\n",
       "\n",
       "    .dataframe thead th {\n",
       "        text-align: right;\n",
       "    }\n",
       "</style>\n",
       "<table border=\"1\" class=\"dataframe\">\n",
       "  <thead>\n",
       "    <tr style=\"text-align: right;\">\n",
       "      <th></th>\n",
       "      <th>age</th>\n",
       "      <th>Medu</th>\n",
       "      <th>Fedu</th>\n",
       "      <th>traveltime</th>\n",
       "      <th>studytime</th>\n",
       "      <th>failures</th>\n",
       "      <th>famrel</th>\n",
       "      <th>freetime</th>\n",
       "      <th>goout</th>\n",
       "      <th>Dalc</th>\n",
       "      <th>Walc</th>\n",
       "      <th>health</th>\n",
       "      <th>absences</th>\n",
       "      <th>G1</th>\n",
       "      <th>G2</th>\n",
       "      <th>G3</th>\n",
       "    </tr>\n",
       "  </thead>\n",
       "  <tbody>\n",
       "    <tr>\n",
       "      <th>count</th>\n",
       "      <td>395.000000</td>\n",
       "      <td>395.000000</td>\n",
       "      <td>395.000000</td>\n",
       "      <td>395.000000</td>\n",
       "      <td>395.000000</td>\n",
       "      <td>395.000000</td>\n",
       "      <td>395.000000</td>\n",
       "      <td>395.000000</td>\n",
       "      <td>395.000000</td>\n",
       "      <td>395.000000</td>\n",
       "      <td>395.000000</td>\n",
       "      <td>395.000000</td>\n",
       "      <td>395.000000</td>\n",
       "      <td>395.000000</td>\n",
       "      <td>395.000000</td>\n",
       "      <td>395.000000</td>\n",
       "    </tr>\n",
       "    <tr>\n",
       "      <th>mean</th>\n",
       "      <td>16.696203</td>\n",
       "      <td>2.749367</td>\n",
       "      <td>2.521519</td>\n",
       "      <td>1.448101</td>\n",
       "      <td>2.035443</td>\n",
       "      <td>0.334177</td>\n",
       "      <td>3.944304</td>\n",
       "      <td>3.235443</td>\n",
       "      <td>3.108861</td>\n",
       "      <td>1.481013</td>\n",
       "      <td>2.291139</td>\n",
       "      <td>3.554430</td>\n",
       "      <td>5.708861</td>\n",
       "      <td>10.908861</td>\n",
       "      <td>10.713924</td>\n",
       "      <td>10.415190</td>\n",
       "    </tr>\n",
       "    <tr>\n",
       "      <th>std</th>\n",
       "      <td>1.276043</td>\n",
       "      <td>1.094735</td>\n",
       "      <td>1.088201</td>\n",
       "      <td>0.697505</td>\n",
       "      <td>0.839240</td>\n",
       "      <td>0.743651</td>\n",
       "      <td>0.896659</td>\n",
       "      <td>0.998862</td>\n",
       "      <td>1.113278</td>\n",
       "      <td>0.890741</td>\n",
       "      <td>1.287897</td>\n",
       "      <td>1.390303</td>\n",
       "      <td>8.003096</td>\n",
       "      <td>3.319195</td>\n",
       "      <td>3.761505</td>\n",
       "      <td>4.581443</td>\n",
       "    </tr>\n",
       "    <tr>\n",
       "      <th>min</th>\n",
       "      <td>15.000000</td>\n",
       "      <td>0.000000</td>\n",
       "      <td>0.000000</td>\n",
       "      <td>1.000000</td>\n",
       "      <td>1.000000</td>\n",
       "      <td>0.000000</td>\n",
       "      <td>1.000000</td>\n",
       "      <td>1.000000</td>\n",
       "      <td>1.000000</td>\n",
       "      <td>1.000000</td>\n",
       "      <td>1.000000</td>\n",
       "      <td>1.000000</td>\n",
       "      <td>0.000000</td>\n",
       "      <td>3.000000</td>\n",
       "      <td>0.000000</td>\n",
       "      <td>0.000000</td>\n",
       "    </tr>\n",
       "    <tr>\n",
       "      <th>25%</th>\n",
       "      <td>16.000000</td>\n",
       "      <td>2.000000</td>\n",
       "      <td>2.000000</td>\n",
       "      <td>1.000000</td>\n",
       "      <td>1.000000</td>\n",
       "      <td>0.000000</td>\n",
       "      <td>4.000000</td>\n",
       "      <td>3.000000</td>\n",
       "      <td>2.000000</td>\n",
       "      <td>1.000000</td>\n",
       "      <td>1.000000</td>\n",
       "      <td>3.000000</td>\n",
       "      <td>0.000000</td>\n",
       "      <td>8.000000</td>\n",
       "      <td>9.000000</td>\n",
       "      <td>8.000000</td>\n",
       "    </tr>\n",
       "    <tr>\n",
       "      <th>50%</th>\n",
       "      <td>17.000000</td>\n",
       "      <td>3.000000</td>\n",
       "      <td>2.000000</td>\n",
       "      <td>1.000000</td>\n",
       "      <td>2.000000</td>\n",
       "      <td>0.000000</td>\n",
       "      <td>4.000000</td>\n",
       "      <td>3.000000</td>\n",
       "      <td>3.000000</td>\n",
       "      <td>1.000000</td>\n",
       "      <td>2.000000</td>\n",
       "      <td>4.000000</td>\n",
       "      <td>4.000000</td>\n",
       "      <td>11.000000</td>\n",
       "      <td>11.000000</td>\n",
       "      <td>11.000000</td>\n",
       "    </tr>\n",
       "    <tr>\n",
       "      <th>75%</th>\n",
       "      <td>18.000000</td>\n",
       "      <td>4.000000</td>\n",
       "      <td>3.000000</td>\n",
       "      <td>2.000000</td>\n",
       "      <td>2.000000</td>\n",
       "      <td>0.000000</td>\n",
       "      <td>5.000000</td>\n",
       "      <td>4.000000</td>\n",
       "      <td>4.000000</td>\n",
       "      <td>2.000000</td>\n",
       "      <td>3.000000</td>\n",
       "      <td>5.000000</td>\n",
       "      <td>8.000000</td>\n",
       "      <td>13.000000</td>\n",
       "      <td>13.000000</td>\n",
       "      <td>14.000000</td>\n",
       "    </tr>\n",
       "    <tr>\n",
       "      <th>max</th>\n",
       "      <td>22.000000</td>\n",
       "      <td>4.000000</td>\n",
       "      <td>4.000000</td>\n",
       "      <td>4.000000</td>\n",
       "      <td>4.000000</td>\n",
       "      <td>3.000000</td>\n",
       "      <td>5.000000</td>\n",
       "      <td>5.000000</td>\n",
       "      <td>5.000000</td>\n",
       "      <td>5.000000</td>\n",
       "      <td>5.000000</td>\n",
       "      <td>5.000000</td>\n",
       "      <td>75.000000</td>\n",
       "      <td>19.000000</td>\n",
       "      <td>19.000000</td>\n",
       "      <td>20.000000</td>\n",
       "    </tr>\n",
       "  </tbody>\n",
       "</table>\n",
       "</div>"
      ],
      "text/plain": [
       "              age        Medu        Fedu  traveltime   studytime    failures  \\\n",
       "count  395.000000  395.000000  395.000000  395.000000  395.000000  395.000000   \n",
       "mean    16.696203    2.749367    2.521519    1.448101    2.035443    0.334177   \n",
       "std      1.276043    1.094735    1.088201    0.697505    0.839240    0.743651   \n",
       "min     15.000000    0.000000    0.000000    1.000000    1.000000    0.000000   \n",
       "25%     16.000000    2.000000    2.000000    1.000000    1.000000    0.000000   \n",
       "50%     17.000000    3.000000    2.000000    1.000000    2.000000    0.000000   \n",
       "75%     18.000000    4.000000    3.000000    2.000000    2.000000    0.000000   \n",
       "max     22.000000    4.000000    4.000000    4.000000    4.000000    3.000000   \n",
       "\n",
       "           famrel    freetime       goout        Dalc        Walc      health  \\\n",
       "count  395.000000  395.000000  395.000000  395.000000  395.000000  395.000000   \n",
       "mean     3.944304    3.235443    3.108861    1.481013    2.291139    3.554430   \n",
       "std      0.896659    0.998862    1.113278    0.890741    1.287897    1.390303   \n",
       "min      1.000000    1.000000    1.000000    1.000000    1.000000    1.000000   \n",
       "25%      4.000000    3.000000    2.000000    1.000000    1.000000    3.000000   \n",
       "50%      4.000000    3.000000    3.000000    1.000000    2.000000    4.000000   \n",
       "75%      5.000000    4.000000    4.000000    2.000000    3.000000    5.000000   \n",
       "max      5.000000    5.000000    5.000000    5.000000    5.000000    5.000000   \n",
       "\n",
       "         absences          G1          G2          G3  \n",
       "count  395.000000  395.000000  395.000000  395.000000  \n",
       "mean     5.708861   10.908861   10.713924   10.415190  \n",
       "std      8.003096    3.319195    3.761505    4.581443  \n",
       "min      0.000000    3.000000    0.000000    0.000000  \n",
       "25%      0.000000    8.000000    9.000000    8.000000  \n",
       "50%      4.000000   11.000000   11.000000   11.000000  \n",
       "75%      8.000000   13.000000   13.000000   14.000000  \n",
       "max     75.000000   19.000000   19.000000   20.000000  "
      ]
     },
     "execution_count": 12,
     "metadata": {},
     "output_type": "execute_result"
    }
   ],
   "source": [
    "data_math.describe()"
   ]
  },
  {
   "cell_type": "code",
   "execution_count": 13,
   "id": "2dbc9902",
   "metadata": {},
   "outputs": [
    {
     "data": {
      "text/html": [
       "<div>\n",
       "<style scoped>\n",
       "    .dataframe tbody tr th:only-of-type {\n",
       "        vertical-align: middle;\n",
       "    }\n",
       "\n",
       "    .dataframe tbody tr th {\n",
       "        vertical-align: top;\n",
       "    }\n",
       "\n",
       "    .dataframe thead th {\n",
       "        text-align: right;\n",
       "    }\n",
       "</style>\n",
       "<table border=\"1\" class=\"dataframe\">\n",
       "  <thead>\n",
       "    <tr style=\"text-align: right;\">\n",
       "      <th></th>\n",
       "      <th>age</th>\n",
       "      <th>Medu</th>\n",
       "      <th>Fedu</th>\n",
       "      <th>traveltime</th>\n",
       "      <th>studytime</th>\n",
       "      <th>failures</th>\n",
       "      <th>famrel</th>\n",
       "      <th>freetime</th>\n",
       "      <th>goout</th>\n",
       "      <th>Dalc</th>\n",
       "      <th>Walc</th>\n",
       "      <th>health</th>\n",
       "      <th>absences</th>\n",
       "      <th>G1</th>\n",
       "      <th>G2</th>\n",
       "      <th>G3</th>\n",
       "    </tr>\n",
       "  </thead>\n",
       "  <tbody>\n",
       "    <tr>\n",
       "      <th>count</th>\n",
       "      <td>649.000000</td>\n",
       "      <td>649.000000</td>\n",
       "      <td>649.000000</td>\n",
       "      <td>649.000000</td>\n",
       "      <td>649.000000</td>\n",
       "      <td>649.000000</td>\n",
       "      <td>649.000000</td>\n",
       "      <td>649.000000</td>\n",
       "      <td>649.000000</td>\n",
       "      <td>649.000000</td>\n",
       "      <td>649.000000</td>\n",
       "      <td>649.000000</td>\n",
       "      <td>649.000000</td>\n",
       "      <td>649.000000</td>\n",
       "      <td>649.000000</td>\n",
       "      <td>649.000000</td>\n",
       "    </tr>\n",
       "    <tr>\n",
       "      <th>mean</th>\n",
       "      <td>16.744222</td>\n",
       "      <td>2.514638</td>\n",
       "      <td>2.306626</td>\n",
       "      <td>1.568567</td>\n",
       "      <td>1.930663</td>\n",
       "      <td>0.221880</td>\n",
       "      <td>3.930663</td>\n",
       "      <td>3.180277</td>\n",
       "      <td>3.184900</td>\n",
       "      <td>1.502311</td>\n",
       "      <td>2.280431</td>\n",
       "      <td>3.536210</td>\n",
       "      <td>3.659476</td>\n",
       "      <td>11.399076</td>\n",
       "      <td>11.570108</td>\n",
       "      <td>11.906009</td>\n",
       "    </tr>\n",
       "    <tr>\n",
       "      <th>std</th>\n",
       "      <td>1.218138</td>\n",
       "      <td>1.134552</td>\n",
       "      <td>1.099931</td>\n",
       "      <td>0.748660</td>\n",
       "      <td>0.829510</td>\n",
       "      <td>0.593235</td>\n",
       "      <td>0.955717</td>\n",
       "      <td>1.051093</td>\n",
       "      <td>1.175766</td>\n",
       "      <td>0.924834</td>\n",
       "      <td>1.284380</td>\n",
       "      <td>1.446259</td>\n",
       "      <td>4.640759</td>\n",
       "      <td>2.745265</td>\n",
       "      <td>2.913639</td>\n",
       "      <td>3.230656</td>\n",
       "    </tr>\n",
       "    <tr>\n",
       "      <th>min</th>\n",
       "      <td>15.000000</td>\n",
       "      <td>0.000000</td>\n",
       "      <td>0.000000</td>\n",
       "      <td>1.000000</td>\n",
       "      <td>1.000000</td>\n",
       "      <td>0.000000</td>\n",
       "      <td>1.000000</td>\n",
       "      <td>1.000000</td>\n",
       "      <td>1.000000</td>\n",
       "      <td>1.000000</td>\n",
       "      <td>1.000000</td>\n",
       "      <td>1.000000</td>\n",
       "      <td>0.000000</td>\n",
       "      <td>0.000000</td>\n",
       "      <td>0.000000</td>\n",
       "      <td>0.000000</td>\n",
       "    </tr>\n",
       "    <tr>\n",
       "      <th>25%</th>\n",
       "      <td>16.000000</td>\n",
       "      <td>2.000000</td>\n",
       "      <td>1.000000</td>\n",
       "      <td>1.000000</td>\n",
       "      <td>1.000000</td>\n",
       "      <td>0.000000</td>\n",
       "      <td>4.000000</td>\n",
       "      <td>3.000000</td>\n",
       "      <td>2.000000</td>\n",
       "      <td>1.000000</td>\n",
       "      <td>1.000000</td>\n",
       "      <td>2.000000</td>\n",
       "      <td>0.000000</td>\n",
       "      <td>10.000000</td>\n",
       "      <td>10.000000</td>\n",
       "      <td>10.000000</td>\n",
       "    </tr>\n",
       "    <tr>\n",
       "      <th>50%</th>\n",
       "      <td>17.000000</td>\n",
       "      <td>2.000000</td>\n",
       "      <td>2.000000</td>\n",
       "      <td>1.000000</td>\n",
       "      <td>2.000000</td>\n",
       "      <td>0.000000</td>\n",
       "      <td>4.000000</td>\n",
       "      <td>3.000000</td>\n",
       "      <td>3.000000</td>\n",
       "      <td>1.000000</td>\n",
       "      <td>2.000000</td>\n",
       "      <td>4.000000</td>\n",
       "      <td>2.000000</td>\n",
       "      <td>11.000000</td>\n",
       "      <td>11.000000</td>\n",
       "      <td>12.000000</td>\n",
       "    </tr>\n",
       "    <tr>\n",
       "      <th>75%</th>\n",
       "      <td>18.000000</td>\n",
       "      <td>4.000000</td>\n",
       "      <td>3.000000</td>\n",
       "      <td>2.000000</td>\n",
       "      <td>2.000000</td>\n",
       "      <td>0.000000</td>\n",
       "      <td>5.000000</td>\n",
       "      <td>4.000000</td>\n",
       "      <td>4.000000</td>\n",
       "      <td>2.000000</td>\n",
       "      <td>3.000000</td>\n",
       "      <td>5.000000</td>\n",
       "      <td>6.000000</td>\n",
       "      <td>13.000000</td>\n",
       "      <td>13.000000</td>\n",
       "      <td>14.000000</td>\n",
       "    </tr>\n",
       "    <tr>\n",
       "      <th>max</th>\n",
       "      <td>22.000000</td>\n",
       "      <td>4.000000</td>\n",
       "      <td>4.000000</td>\n",
       "      <td>4.000000</td>\n",
       "      <td>4.000000</td>\n",
       "      <td>3.000000</td>\n",
       "      <td>5.000000</td>\n",
       "      <td>5.000000</td>\n",
       "      <td>5.000000</td>\n",
       "      <td>5.000000</td>\n",
       "      <td>5.000000</td>\n",
       "      <td>5.000000</td>\n",
       "      <td>32.000000</td>\n",
       "      <td>19.000000</td>\n",
       "      <td>19.000000</td>\n",
       "      <td>19.000000</td>\n",
       "    </tr>\n",
       "  </tbody>\n",
       "</table>\n",
       "</div>"
      ],
      "text/plain": [
       "              age        Medu        Fedu  traveltime   studytime    failures  \\\n",
       "count  649.000000  649.000000  649.000000  649.000000  649.000000  649.000000   \n",
       "mean    16.744222    2.514638    2.306626    1.568567    1.930663    0.221880   \n",
       "std      1.218138    1.134552    1.099931    0.748660    0.829510    0.593235   \n",
       "min     15.000000    0.000000    0.000000    1.000000    1.000000    0.000000   \n",
       "25%     16.000000    2.000000    1.000000    1.000000    1.000000    0.000000   \n",
       "50%     17.000000    2.000000    2.000000    1.000000    2.000000    0.000000   \n",
       "75%     18.000000    4.000000    3.000000    2.000000    2.000000    0.000000   \n",
       "max     22.000000    4.000000    4.000000    4.000000    4.000000    3.000000   \n",
       "\n",
       "           famrel    freetime       goout        Dalc        Walc      health  \\\n",
       "count  649.000000  649.000000  649.000000  649.000000  649.000000  649.000000   \n",
       "mean     3.930663    3.180277    3.184900    1.502311    2.280431    3.536210   \n",
       "std      0.955717    1.051093    1.175766    0.924834    1.284380    1.446259   \n",
       "min      1.000000    1.000000    1.000000    1.000000    1.000000    1.000000   \n",
       "25%      4.000000    3.000000    2.000000    1.000000    1.000000    2.000000   \n",
       "50%      4.000000    3.000000    3.000000    1.000000    2.000000    4.000000   \n",
       "75%      5.000000    4.000000    4.000000    2.000000    3.000000    5.000000   \n",
       "max      5.000000    5.000000    5.000000    5.000000    5.000000    5.000000   \n",
       "\n",
       "         absences          G1          G2          G3  \n",
       "count  649.000000  649.000000  649.000000  649.000000  \n",
       "mean     3.659476   11.399076   11.570108   11.906009  \n",
       "std      4.640759    2.745265    2.913639    3.230656  \n",
       "min      0.000000    0.000000    0.000000    0.000000  \n",
       "25%      0.000000   10.000000   10.000000   10.000000  \n",
       "50%      2.000000   11.000000   11.000000   12.000000  \n",
       "75%      6.000000   13.000000   13.000000   14.000000  \n",
       "max     32.000000   19.000000   19.000000   19.000000  "
      ]
     },
     "execution_count": 13,
     "metadata": {},
     "output_type": "execute_result"
    }
   ],
   "source": [
    "data_port.describe()"
   ]
  },
  {
   "cell_type": "code",
   "execution_count": 16,
   "id": "e3c7d2fa",
   "metadata": {},
   "outputs": [
    {
     "name": "stdout",
     "output_type": "stream",
     "text": [
      "False\n",
      "False\n"
     ]
    }
   ],
   "source": [
    "# Check for NA values\n",
    "print(data_math.isnull().values.any())\n",
    "print(data_port.isnull().values.any())\n",
    "\n",
    "# There are no NA values in our data"
   ]
  },
  {
   "cell_type": "markdown",
   "id": "6503a81d",
   "metadata": {},
   "source": [
    "Explore variables to be used to check for any abnormalities (school, sex, age, famsize, Pstatus, Medu, Fedu, guardian, traveltime, studytime, higher, romantic, absences)."
   ]
  },
  {
   "cell_type": "code",
   "execution_count": 18,
   "id": "b11889fe",
   "metadata": {},
   "outputs": [
    {
     "data": {
      "text/plain": [
       "<AxesSubplot:>"
      ]
     },
     "execution_count": 18,
     "metadata": {},
     "output_type": "execute_result"
    },
    {
     "data": {
      "image/png": "[encoded data removed]",
      "text/plain": [
       "<Figure size 432x288 with 1 Axes>"
      ]
     },
     "metadata": {
      "needs_background": "light"
     },
     "output_type": "display_data"
    }
   ],
   "source": [
    "data_math['school'].value_counts().plot(kind='bar')"
   ]
  },
  {
   "cell_type": "code",
   "execution_count": 24,
   "id": "e5e943fa",
   "metadata": {},
   "outputs": [
    {
     "data": {
      "text/plain": [
       "0.88"
      ]
     },
     "execution_count": 24,
     "metadata": {},
     "output_type": "execute_result"
    }
   ],
   "source": [
    "GP_mathper = round(data_math['school'].value_counts()['GP'] / len(data_math['school']), 2)\n",
    "GP_mathper\n",
    "\n",
    "# Most math students represnted in the data come from the GP school (88%)"
   ]
  },
  {
   "cell_type": "code",
   "execution_count": 19,
   "id": "02dd4e9f",
   "metadata": {},
   "outputs": [
    {
     "data": {
      "text/plain": [
       "<AxesSubplot:>"
      ]
     },
     "execution_count": 19,
     "metadata": {},
     "output_type": "execute_result"
    },
    {
     "data": {
      "image/png": "[encoded data removed]",
      "text/plain": [
       "<Figure size 432x288 with 1 Axes>"
      ]
     },
     "metadata": {
      "needs_background": "light"
     },
     "output_type": "display_data"
    }
   ],
   "source": [
    "data_port['school'].value_counts().plot(kind='bar')"
   ]
  },
  {
   "cell_type": "code",
   "execution_count": 26,
   "id": "6265f3b4",
   "metadata": {},
   "outputs": [
    {
     "data": {
      "text/plain": [
       "0.65"
      ]
     },
     "execution_count": 26,
     "metadata": {},
     "output_type": "execute_result"
    }
   ],
   "source": [
    "GP_portper = round(data_port['school'].value_counts()['GP'] / len(data_port['school']), 2)\n",
    "GP_portper\n",
    "\n",
    "# Most math students represnted in the data come from the GP school (65%)"
   ]
  },
  {
   "cell_type": "code",
   "execution_count": 29,
   "id": "7e68cbd4",
   "metadata": {},
   "outputs": [
    {
     "data": {
      "text/plain": [
       "<AxesSubplot:>"
      ]
     },
     "execution_count": 29,
     "metadata": {},
     "output_type": "execute_result"
    },
    {
     "data": {
      "image/png": "[encoded data removed]",
      "text/plain": [
       "<Figure size 432x288 with 1 Axes>"
      ]
     },
     "metadata": {
      "needs_background": "light"
     },
     "output_type": "display_data"
    }
   ],
   "source": [
    "data_math['sex'].value_counts().plot(kind='bar')"
   ]
  },
  {
   "cell_type": "code",
   "execution_count": 31,
   "id": "e5c6d5a5",
   "metadata": {},
   "outputs": [
    {
     "data": {
      "text/plain": [
       "0.53"
      ]
     },
     "execution_count": 31,
     "metadata": {},
     "output_type": "execute_result"
    }
   ],
   "source": [
    "Fem_mathper = round(data_math['sex'].value_counts()['F'] / len(data_math['sex']), 2)\n",
    "Fem_mathper\n",
    "\n",
    "# The data is fairly well distributed in terms of gender for the math classes (53% female)"
   ]
  },
  {
   "cell_type": "code",
   "execution_count": 32,
   "id": "8248c81a",
   "metadata": {},
   "outputs": [
    {
     "data": {
      "text/plain": [
       "<AxesSubplot:>"
      ]
     },
     "execution_count": 32,
     "metadata": {},
     "output_type": "execute_result"
    },
    {
     "data": {
      "image/png": "[encoded data removed]",
      "text/plain": [
       "<Figure size 432x288 with 1 Axes>"
      ]
     },
     "metadata": {
      "needs_background": "light"
     },
     "output_type": "display_data"
    }
   ],
   "source": [
    "data_port['sex'].value_counts().plot(kind='bar')"
   ]
  },
  {
   "cell_type": "code",
   "execution_count": 33,
   "id": "bff9f872",
   "metadata": {},
   "outputs": [
    {
     "data": {
      "text/plain": [
       "0.59"
      ]
     },
     "execution_count": 33,
     "metadata": {},
     "output_type": "execute_result"
    }
   ],
   "source": [
    "Fem_portper = round(data_port['sex'].value_counts()['F'] / len(data_port['sex']), 2)\n",
    "Fem_portper\n",
    "\n",
    "# The data is fairly well distributed in terms of gender for the portuguese classes (59% female)"
   ]
  },
  {
   "cell_type": "code",
   "execution_count": 34,
   "id": "87c5237b",
   "metadata": {},
   "outputs": [
    {
     "data": {
      "text/plain": [
       "<AxesSubplot:>"
      ]
     },
     "execution_count": 34,
     "metadata": {},
     "output_type": "execute_result"
    },
    {
     "data": {
      "image/png": "[encoded data removed]",
      "text/plain": [
       "<Figure size 432x288 with 1 Axes>"
      ]
     },
     "metadata": {
      "needs_background": "light"
     },
     "output_type": "display_data"
    }
   ],
   "source": [
    "data_math['age'].value_counts().plot(kind='bar')\n",
    "\n",
    "# Most students in the math classes are in the 15-18 year old range"
   ]
  },
  {
   "cell_type": "code",
   "execution_count": 36,
   "id": "f65b28d9",
   "metadata": {},
   "outputs": [
    {
     "data": {
      "text/plain": [
       "<AxesSubplot:>"
      ]
     },
     "execution_count": 36,
     "metadata": {},
     "output_type": "execute_result"
    },
    {
     "data": {
      "image/png": "[encoded data removed]",
      "text/plain": [
       "<Figure size 432x288 with 1 Axes>"
      ]
     },
     "metadata": {
      "needs_background": "light"
     },
     "output_type": "display_data"
    }
   ],
   "source": [
    "data_port['age'].value_counts().plot(kind='bar')\n",
    "\n",
    "# Most students in the portuguese classes are in the 15-18 year old range"
   ]
  },
  {
   "cell_type": "code",
   "execution_count": 35,
   "id": "776ba05a",
   "metadata": {},
   "outputs": [
    {
     "data": {
      "text/plain": [
       "<AxesSubplot:>"
      ]
     },
     "execution_count": 35,
     "metadata": {},
     "output_type": "execute_result"
    },
    {
     "data": {
      "image/png": "[encoded data removed]",
      "text/plain": [
       "<Figure size 432x288 with 1 Axes>"
      ]
     },
     "metadata": {
      "needs_background": "light"
     },
     "output_type": "display_data"
    }
   ],
   "source": [
    "data_math['famsize'].value_counts().plot(kind='bar')"
   ]
  },
  {
   "cell_type": "code",
   "execution_count": 38,
   "id": "1bf964bc",
   "metadata": {},
   "outputs": [
    {
     "data": {
      "text/plain": [
       "0.71"
      ]
     },
     "execution_count": 38,
     "metadata": {},
     "output_type": "execute_result"
    }
   ],
   "source": [
    "GT3_mathper = round(data_math['famsize'].value_counts()['GT3'] / len(data_math['famsize']), 2)\n",
    "GT3_mathper\n",
    "\n",
    "# Most math students' family size is of greater than 3 elements (71%)"
   ]
  },
  {
   "cell_type": "code",
   "execution_count": 39,
   "id": "c8eb825e",
   "metadata": {},
   "outputs": [
    {
     "data": {
      "text/plain": [
       "<AxesSubplot:>"
      ]
     },
     "execution_count": 39,
     "metadata": {},
     "output_type": "execute_result"
    },
    {
     "data": {
      "image/png": "[encoded data removed]",
      "text/plain": [
       "<Figure size 432x288 with 1 Axes>"
      ]
     },
     "metadata": {
      "needs_background": "light"
     },
     "output_type": "display_data"
    }
   ],
   "source": [
    "data_port['famsize'].value_counts().plot(kind='bar')"
   ]
  },
  {
   "cell_type": "code",
   "execution_count": 40,
   "id": "3e4773e6",
   "metadata": {},
   "outputs": [
    {
     "data": {
      "text/plain": [
       "0.7"
      ]
     },
     "execution_count": 40,
     "metadata": {},
     "output_type": "execute_result"
    }
   ],
   "source": [
    "GT3_portper = round(data_port['famsize'].value_counts()['GT3'] / len(data_port['famsize']), 2)\n",
    "GT3_portper\n",
    "\n",
    "# Most portuguese students' family size is of greater than 3 elements (70%)"
   ]
  },
  {
   "cell_type": "code",
   "execution_count": 41,
   "id": "cb35aa9d",
   "metadata": {},
   "outputs": [
    {
     "data": {
      "text/plain": [
       "<AxesSubplot:>"
      ]
     },
     "execution_count": 41,
     "metadata": {},
     "output_type": "execute_result"
    },
    {
     "data": {
      "image/png": "[encoded data removed]",
      "text/plain": [
       "<Figure size 432x288 with 1 Axes>"
      ]
     },
     "metadata": {
      "needs_background": "light"
     },
     "output_type": "display_data"
    }
   ],
   "source": [
    "data_math['Pstatus'].value_counts().plot(kind='bar')"
   ]
  },
  {
   "cell_type": "code",
   "execution_count": 42,
   "id": "31855775",
   "metadata": {},
   "outputs": [
    {
     "data": {
      "text/plain": [
       "0.9"
      ]
     },
     "execution_count": 42,
     "metadata": {},
     "output_type": "execute_result"
    }
   ],
   "source": [
    "Tog_mathper = round(data_math['Pstatus'].value_counts()['T'] / len(data_math['Pstatus']), 2)\n",
    "Tog_mathper\n",
    "\n",
    "# Most math students' parents are together (90%)"
   ]
  },
  {
   "cell_type": "code",
   "execution_count": 43,
   "id": "01f24157",
   "metadata": {},
   "outputs": [
    {
     "data": {
      "text/plain": [
       "<AxesSubplot:>"
      ]
     },
     "execution_count": 43,
     "metadata": {},
     "output_type": "execute_result"
    },
    {
     "data": {
      "image/png": "[encoded data removed]",
      "text/plain": [
       "<Figure size 432x288 with 1 Axes>"
      ]
     },
     "metadata": {
      "needs_background": "light"
     },
     "output_type": "display_data"
    }
   ],
   "source": [
    "data_port['Pstatus'].value_counts().plot(kind='bar')"
   ]
  },
  {
   "cell_type": "code",
   "execution_count": 44,
   "id": "d24a02ef",
   "metadata": {},
   "outputs": [
    {
     "data": {
      "text/plain": [
       "0.88"
      ]
     },
     "execution_count": 44,
     "metadata": {},
     "output_type": "execute_result"
    }
   ],
   "source": [
    "Tog_portper = round(data_port['Pstatus'].value_counts()['T'] / len(data_port['Pstatus']), 2)\n",
    "Tog_portper\n",
    "\n",
    "# Most portuguese students' parents are together (88%)"
   ]
  },
  {
   "cell_type": "code",
   "execution_count": 46,
   "id": "24ec8a83",
   "metadata": {},
   "outputs": [
    {
     "data": {
      "text/plain": [
       "<AxesSubplot:>"
      ]
     },
     "execution_count": 46,
     "metadata": {},
     "output_type": "execute_result"
    },
    {
     "data": {
      "image/png": "[encoded data removed]",
      "text/plain": [
       "<Figure size 432x288 with 1 Axes>"
      ]
     },
     "metadata": {
      "needs_background": "light"
     },
     "output_type": "display_data"
    }
   ],
   "source": [
    "data_math['Medu'].value_counts().plot(kind='bar')\n",
    "\n",
    "# Most math students have mothers with some sort of education, with the biggest group having higher education"
   ]
  },
  {
   "cell_type": "code",
   "execution_count": 47,
   "id": "7f925c9e",
   "metadata": {},
   "outputs": [
    {
     "data": {
      "text/plain": [
       "<AxesSubplot:>"
      ]
     },
     "execution_count": 47,
     "metadata": {},
     "output_type": "execute_result"
    },
    {
     "data": {
      "image/png": "[encoded data removed]",
      "text/plain": [
       "<Figure size 432x288 with 1 Axes>"
      ]
     },
     "metadata": {
      "needs_background": "light"
     },
     "output_type": "display_data"
    }
   ],
   "source": [
    "data_port['Medu'].value_counts().plot(kind='bar')\n",
    "\n",
    "# Most portuguese students have mothers with some sort of education, with the biggest groups having completed 5th to 9th grade"
   ]
  },
  {
   "cell_type": "code",
   "execution_count": 48,
   "id": "5a6716fc",
   "metadata": {},
   "outputs": [
    {
     "data": {
      "text/plain": [
       "<AxesSubplot:>"
      ]
     },
     "execution_count": 48,
     "metadata": {},
     "output_type": "execute_result"
    },
    {
     "data": {
      "image/png": "[encoded data removed]",
      "text/plain": [
       "<Figure size 432x288 with 1 Axes>"
      ]
     },
     "metadata": {
      "needs_background": "light"
     },
     "output_type": "display_data"
    }
   ],
   "source": [
    "data_math['Fedu'].value_counts().plot(kind='bar')\n",
    "\n",
    "# Most math students have fathers with some sort of education, with the biggest group having completed 5th to 9th grade"
   ]
  },
  {
   "cell_type": "code",
   "execution_count": null,
   "id": "1e72e6da",
   "metadata": {},
   "outputs": [],
   "source": [
    "data_math['Fedu'].value_counts().plot(kind='bar')\n",
    "\n",
    "# Most math students have fathers with some sort of education, with the biggest group having completed 5th to 9th grade"
   ]
  },
  {
   "cell_type": "code",
   "execution_count": 49,
   "id": "1a12aec3",
   "metadata": {},
   "outputs": [
    {
     "data": {
      "text/plain": [
       "<AxesSubplot:>"
      ]
     },
     "execution_count": 49,
     "metadata": {},
     "output_type": "execute_result"
    },
    {
     "data": {
      "image/png": "[encoded data removed]",
      "text/plain": [
       "<Figure size 432x288 with 1 Axes>"
      ]
     },
     "metadata": {
      "needs_background": "light"
     },
     "output_type": "display_data"
    }
   ],
   "source": [
    "data_port['Fedu'].value_counts().plot(kind='bar')\n",
    "\n",
    "# Most portuguese students have fathers with some sort of education, with the biggest group having completed 5th to 9th grade"
   ]
  },
  {
   "cell_type": "code",
   "execution_count": 51,
   "id": "11f19214",
   "metadata": {},
   "outputs": [
    {
     "data": {
      "text/plain": [
       "<AxesSubplot:>"
      ]
     },
     "execution_count": 51,
     "metadata": {},
     "output_type": "execute_result"
    },
    {
     "data": {
      "image/png": "[encoded data removed]",
      "text/plain": [
       "<Figure size 432x288 with 1 Axes>"
      ]
     },
     "metadata": {
      "needs_background": "light"
     },
     "output_type": "display_data"
    }
   ],
   "source": [
    "data_math['guardian'].value_counts().plot(kind='bar')"
   ]
  },
  {
   "cell_type": "code",
   "execution_count": 52,
   "id": "e6db8c95",
   "metadata": {},
   "outputs": [
    {
     "data": {
      "text/plain": [
       "0.69"
      ]
     },
     "execution_count": 52,
     "metadata": {},
     "output_type": "execute_result"
    }
   ],
   "source": [
    "Mot_mathper = round(data_math['guardian'].value_counts()['mother'] / len(data_math['guardian']), 2)\n",
    "Mot_mathper\n",
    "\n",
    "# Most math students' guardian is the mother (69%)"
   ]
  },
  {
   "cell_type": "code",
   "execution_count": 53,
   "id": "200a9540",
   "metadata": {},
   "outputs": [
    {
     "data": {
      "text/plain": [
       "<AxesSubplot:>"
      ]
     },
     "execution_count": 53,
     "metadata": {},
     "output_type": "execute_result"
    },
    {
     "data": {
      "image/png": "[encoded data removed]",
      "text/plain": [
       "<Figure size 432x288 with 1 Axes>"
      ]
     },
     "metadata": {
      "needs_background": "light"
     },
     "output_type": "display_data"
    }
   ],
   "source": [
    "data_port['guardian'].value_counts().plot(kind='bar')"
   ]
  },
  {
   "cell_type": "code",
   "execution_count": 54,
   "id": "a3c5a8c2",
   "metadata": {},
   "outputs": [
    {
     "data": {
      "text/plain": [
       "0.7"
      ]
     },
     "execution_count": 54,
     "metadata": {},
     "output_type": "execute_result"
    }
   ],
   "source": [
    "Mot_portper = round(data_port['guardian'].value_counts()['mother'] / len(data_port['guardian']), 2)\n",
    "Mot_portper\n",
    "\n",
    "# Most math students' guardian is the mother (70%)"
   ]
  },
  {
   "cell_type": "code",
   "execution_count": 56,
   "id": "e1f50404",
   "metadata": {},
   "outputs": [
    {
     "data": {
      "text/plain": [
       "<AxesSubplot:>"
      ]
     },
     "execution_count": 56,
     "metadata": {},
     "output_type": "execute_result"
    },
    {
     "data": {
      "image/png": "[encoded data removed]",
      "text/plain": [
       "<Figure size 432x288 with 1 Axes>"
      ]
     },
     "metadata": {
      "needs_background": "light"
     },
     "output_type": "display_data"
    }
   ],
   "source": [
    "data_math['traveltime'].value_counts().plot(kind='bar')\n",
    "\n",
    "# Most math students live fairly close to the school, with a vast majority being either <15 min or 15 to 30 minutes from it "
   ]
  },
  {
   "cell_type": "code",
   "execution_count": 57,
   "id": "ba36d913",
   "metadata": {},
   "outputs": [
    {
     "data": {
      "text/plain": [
       "<AxesSubplot:>"
      ]
     },
     "execution_count": 57,
     "metadata": {},
     "output_type": "execute_result"
    },
    {
     "data": {
      "image/png": "[encoded data removed]",
      "text/plain": [
       "<Figure size 432x288 with 1 Axes>"
      ]
     },
     "metadata": {
      "needs_background": "light"
     },
     "output_type": "display_data"
    }
   ],
   "source": [
    "data_port['traveltime'].value_counts().plot(kind='bar')\n",
    "\n",
    "# Most portuguese students live fairly close to the school, with a vast majority being either <15 min or 15 to 30 minutes from it "
   ]
  },
  {
   "cell_type": "code",
   "execution_count": 58,
   "id": "f05aafff",
   "metadata": {},
   "outputs": [
    {
     "data": {
      "text/plain": [
       "<AxesSubplot:>"
      ]
     },
     "execution_count": 58,
     "metadata": {},
     "output_type": "execute_result"
    },
    {
     "data": {
      "image/png": "[encoded data removed]",
      "text/plain": [
       "<Figure size 432x288 with 1 Axes>"
      ]
     },
     "metadata": {
      "needs_background": "light"
     },
     "output_type": "display_data"
    }
   ],
   "source": [
    "data_math['studytime'].value_counts().plot(kind='bar')\n",
    "\n",
    "# Most math students spend between 2 and 5 hours studying per week"
   ]
  },
  {
   "cell_type": "code",
   "execution_count": 59,
   "id": "0ff12fd4",
   "metadata": {},
   "outputs": [
    {
     "data": {
      "text/plain": [
       "<AxesSubplot:>"
      ]
     },
     "execution_count": 59,
     "metadata": {},
     "output_type": "execute_result"
    },
    {
     "data": {
      "image/png": "[encoded data removed]",
      "text/plain": [
       "<Figure size 432x288 with 1 Axes>"
      ]
     },
     "metadata": {
      "needs_background": "light"
     },
     "output_type": "display_data"
    }
   ],
   "source": [
    "data_port['studytime'].value_counts().plot(kind='bar')\n",
    "\n",
    "# Most portuguese students spend between 2 and 5 hours studying per week"
   ]
  },
  {
   "cell_type": "code",
   "execution_count": 60,
   "id": "5fb89168",
   "metadata": {},
   "outputs": [
    {
     "data": {
      "text/plain": [
       "<AxesSubplot:>"
      ]
     },
     "execution_count": 60,
     "metadata": {},
     "output_type": "execute_result"
    },
    {
     "data": {
      "image/png": "[encoded data removed]",
      "text/plain": [
       "<Figure size 432x288 with 1 Axes>"
      ]
     },
     "metadata": {
      "needs_background": "light"
     },
     "output_type": "display_data"
    }
   ],
   "source": [
    "data_math['higher'].value_counts().plot(kind='bar')"
   ]
  },
  {
   "cell_type": "code",
   "execution_count": 61,
   "id": "0d71e5b0",
   "metadata": {},
   "outputs": [
    {
     "data": {
      "text/plain": [
       "0.95"
      ]
     },
     "execution_count": 61,
     "metadata": {},
     "output_type": "execute_result"
    }
   ],
   "source": [
    "Hig_mathper = round(data_math['higher'].value_counts()['yes'] / len(data_math['higher']), 2)\n",
    "Hig_mathper\n",
    "\n",
    "# Most math students want to pursue higher education (95%)"
   ]
  },
  {
   "cell_type": "code",
   "execution_count": 62,
   "id": "2e4f0290",
   "metadata": {},
   "outputs": [
    {
     "data": {
      "text/plain": [
       "<AxesSubplot:>"
      ]
     },
     "execution_count": 62,
     "metadata": {},
     "output_type": "execute_result"
    },
    {
     "data": {
      "image/png": "[encoded data removed]",
      "text/plain": [
       "<Figure size 432x288 with 1 Axes>"
      ]
     },
     "metadata": {
      "needs_background": "light"
     },
     "output_type": "display_data"
    }
   ],
   "source": [
    "data_port['higher'].value_counts().plot(kind='bar')"
   ]
  },
  {
   "cell_type": "code",
   "execution_count": 63,
   "id": "2fa97cac",
   "metadata": {},
   "outputs": [
    {
     "data": {
      "text/plain": [
       "0.89"
      ]
     },
     "execution_count": 63,
     "metadata": {},
     "output_type": "execute_result"
    }
   ],
   "source": [
    "Hig_portper = round(data_port['higher'].value_counts()['yes'] / len(data_port['higher']), 2)\n",
    "Hig_portper\n",
    "\n",
    "# Most portuguese students want to pursue higher education (89%)"
   ]
  },
  {
   "cell_type": "code",
   "execution_count": 64,
   "id": "c1060293",
   "metadata": {},
   "outputs": [
    {
     "data": {
      "text/plain": [
       "<AxesSubplot:>"
      ]
     },
     "execution_count": 64,
     "metadata": {},
     "output_type": "execute_result"
    },
    {
     "data": {
      "image/png": "[encoded data removed]",
      "text/plain": [
       "<Figure size 432x288 with 1 Axes>"
      ]
     },
     "metadata": {
      "needs_background": "light"
     },
     "output_type": "display_data"
    }
   ],
   "source": [
    "data_math['romantic'].value_counts().plot(kind='bar')"
   ]
  },
  {
   "cell_type": "code",
   "execution_count": 65,
   "id": "0949a710",
   "metadata": {},
   "outputs": [
    {
     "data": {
      "text/plain": [
       "0.33"
      ]
     },
     "execution_count": 65,
     "metadata": {},
     "output_type": "execute_result"
    }
   ],
   "source": [
    "Rom_mathper = round(data_math['romantic'].value_counts()['yes'] / len(data_math['romantic']), 2)\n",
    "Rom_mathper\n",
    "\n",
    "# Most math students are not engaged in a romantic relationship (33%)"
   ]
  },
  {
   "cell_type": "code",
   "execution_count": 66,
   "id": "d5a45bdb",
   "metadata": {},
   "outputs": [
    {
     "data": {
      "text/plain": [
       "<AxesSubplot:>"
      ]
     },
     "execution_count": 66,
     "metadata": {},
     "output_type": "execute_result"
    },
    {
     "data": {
      "image/png": "[encoded data removed]",
      "text/plain": [
       "<Figure size 432x288 with 1 Axes>"
      ]
     },
     "metadata": {
      "needs_background": "light"
     },
     "output_type": "display_data"
    }
   ],
   "source": [
    "data_port['romantic'].value_counts().plot(kind='bar')"
   ]
  },
  {
   "cell_type": "code",
   "execution_count": 67,
   "id": "43ab0208",
   "metadata": {},
   "outputs": [
    {
     "data": {
      "text/plain": [
       "0.37"
      ]
     },
     "execution_count": 67,
     "metadata": {},
     "output_type": "execute_result"
    }
   ],
   "source": [
    "Rom_portper = round(data_port['romantic'].value_counts()['yes'] / len(data_port['romantic']), 2)\n",
    "Rom_portper\n",
    "\n",
    "# Most portuguese students are not engaged in a romantic relationship (37%)"
   ]
  },
  {
   "cell_type": "code",
   "execution_count": 68,
   "id": "69ecd14c",
   "metadata": {},
   "outputs": [
    {
     "data": {
      "text/plain": [
       "<AxesSubplot:>"
      ]
     },
     "execution_count": 68,
     "metadata": {},
     "output_type": "execute_result"
    },
    {
     "data": {
      "image/png": "[encoded data removed]",
      "text/plain": [
       "<Figure size 432x288 with 1 Axes>"
      ]
     },
     "metadata": {
      "needs_background": "light"
     },
     "output_type": "display_data"
    }
   ],
   "source": [
    "data_math['absences'].value_counts().plot(kind='bar')\n",
    "\n",
    "# Very few math students have more than 4 absences, with the most common result being none"
   ]
  },
  {
   "cell_type": "code",
   "execution_count": 69,
   "id": "1d7bec0f",
   "metadata": {},
   "outputs": [
    {
     "data": {
      "text/plain": [
       "<AxesSubplot:>"
      ]
     },
     "execution_count": 69,
     "metadata": {},
     "output_type": "execute_result"
    },
    {
     "data": {
      "image/png": "[encoded data removed]",
      "text/plain": [
       "<Figure size 432x288 with 1 Axes>"
      ]
     },
     "metadata": {
      "needs_background": "light"
     },
     "output_type": "display_data"
    }
   ],
   "source": [
    "data_port['absences'].value_counts().plot(kind='bar')\n",
    "\n",
    "# Very few portuguese students have more than 4 absences, with the most common result being none"
   ]
  },
  {
   "cell_type": "markdown",
   "id": "aa4334e7",
   "metadata": {},
   "source": [
    "Takeaways from exploratory analysis:\n",
    "- Most students come from the GP school (88% for math, 65% for portuguese);\n",
    "- The data is fairly well distributed in terms of gender;\n",
    "- Most students are between 15 and 18 years old;\n",
    "- Most students' family consists of more than 3 elements (71% for math students, 70% for portuguese students);\n",
    "- Most parents are together (90% for math, 88% for portuguese);\n",
    "- Mothers are more educated than fathers, with math students' parents having slightly more formal education;\n",
    "- Most students' guardian is their mother (69%, 70%);\n",
    "- For both classes, most students live close to the school (<15 mins or between 15-30 mins travel time);\n",
    "- For both classes, most students spend between 2 to 5 weekly hours studying for the subject;\n",
    "- Most students want to pursue higher education (95%, 89%);\n",
    "- Most students are not in a romantic relationship (67%, 63%);\n",
    "- For both classes, students seem to have few, if any, absences;\n",
    "\n",
    "Differences between classes:\n",
    "- Little math data for MS school (12% of math students. This number raises to 35% in portuguese);\n",
    "- Math students' parents have slightly more formal education;\n",
    "- Besides that, the variables seem to be distributed in the same way in our 2 datasets."
   ]
  },
  {
   "cell_type": "markdown",
   "id": "33cd4719",
   "metadata": {},
   "source": [
    "LINEAR REGRESSION"
   ]
  },
  {
   "cell_type": "markdown",
   "id": "fcddfd98",
   "metadata": {},
   "source": [
    "Transform 'absences' column into dummy variable and add new column to dataframe (depending on absences being greater than 4 or not)."
   ]
  },
  {
   "cell_type": "code",
   "execution_count": 78,
   "id": "76513b57",
   "metadata": {},
   "outputs": [],
   "source": [
    "# Function to be used in apply method to determine the value in the 'absences_g4' column\n",
    "def determine_absences(row):\n",
    "    # if absences are less or equal to 4\n",
    "    if row['absences'] <= 4:\n",
    "        return 0\n",
    "    # if absences are greater than 4\n",
    "    else:\n",
    "        return 1\n",
    "    \n",
    "# Create new column in both dataframes\n",
    "data_math['absences_g4'] = data_math.apply(lambda row: determine_absences(row), axis=1)\n",
    "data_port['absences_g4'] = data_port.apply(lambda row: determine_absences(row), axis=1)"
   ]
  },
  {
   "cell_type": "markdown",
   "id": "c507adf4",
   "metadata": {},
   "source": [
    "Transform categorical variables into dummies to be included in linear regression"
   ]
  },
  {
   "cell_type": "code",
   "execution_count": 81,
   "id": "f76a1a28",
   "metadata": {},
   "outputs": [],
   "source": [
    "data_math_ols = pd.get_dummies(data_math)\n",
    "data_port_ols = pd.get_dummies(data_port)"
   ]
  },
  {
   "cell_type": "code",
   "execution_count": 90,
   "id": "991b2712",
   "metadata": {},
   "outputs": [
    {
     "data": {
      "text/html": [
       "<table class=\"simpletable\">\n",
       "<caption>OLS Regression Results</caption>\n",
       "<tr>\n",
       "  <th>Dep. Variable:</th>           <td>G3</td>        <th>  R-squared:         </th> <td>   0.135</td>\n",
       "</tr>\n",
       "<tr>\n",
       "  <th>Model:</th>                   <td>OLS</td>       <th>  Adj. R-squared:    </th> <td>   0.106</td>\n",
       "</tr>\n",
       "<tr>\n",
       "  <th>Method:</th>             <td>Least Squares</td>  <th>  F-statistic:       </th> <td>   4.582</td>\n",
       "</tr>\n",
       "<tr>\n",
       "  <th>Date:</th>             <td>Tue, 29 Mar 2022</td> <th>  Prob (F-statistic):</th> <td>2.55e-07</td>\n",
       "</tr>\n",
       "<tr>\n",
       "  <th>Time:</th>                 <td>21:11:06</td>     <th>  Log-Likelihood:    </th> <td> -1132.5</td>\n",
       "</tr>\n",
       "<tr>\n",
       "  <th>No. Observations:</th>      <td>   395</td>      <th>  AIC:               </th> <td>   2293.</td>\n",
       "</tr>\n",
       "<tr>\n",
       "  <th>Df Residuals:</th>          <td>   381</td>      <th>  BIC:               </th> <td>   2349.</td>\n",
       "</tr>\n",
       "<tr>\n",
       "  <th>Df Model:</th>              <td>    13</td>      <th>                     </th>     <td> </td>   \n",
       "</tr>\n",
       "<tr>\n",
       "  <th>Covariance Type:</th>      <td>nonrobust</td>    <th>                     </th>     <td> </td>   \n",
       "</tr>\n",
       "</table>\n",
       "<table class=\"simpletable\">\n",
       "<tr>\n",
       "         <td></td>            <th>coef</th>     <th>std err</th>      <th>t</th>      <th>P>|t|</th>  <th>[0.025</th>    <th>0.975]</th>  \n",
       "</tr>\n",
       "<tr>\n",
       "  <th>Intercept</th>       <td>   14.9979</td> <td>    4.241</td> <td>    3.537</td> <td> 0.000</td> <td>    6.659</td> <td>   23.336</td>\n",
       "</tr>\n",
       "<tr>\n",
       "  <th>age</th>             <td>   -0.4571</td> <td>    0.198</td> <td>   -2.303</td> <td> 0.022</td> <td>   -0.847</td> <td>   -0.067</td>\n",
       "</tr>\n",
       "<tr>\n",
       "  <th>Medu</th>            <td>    0.5948</td> <td>    0.268</td> <td>    2.220</td> <td> 0.027</td> <td>    0.068</td> <td>    1.121</td>\n",
       "</tr>\n",
       "<tr>\n",
       "  <th>Fedu</th>            <td>    0.0686</td> <td>    0.264</td> <td>    0.260</td> <td> 0.795</td> <td>   -0.451</td> <td>    0.588</td>\n",
       "</tr>\n",
       "<tr>\n",
       "  <th>traveltime</th>      <td>   -0.5861</td> <td>    0.330</td> <td>   -1.775</td> <td> 0.077</td> <td>   -1.235</td> <td>    0.063</td>\n",
       "</tr>\n",
       "<tr>\n",
       "  <th>studytime</th>       <td>    0.6709</td> <td>    0.281</td> <td>    2.385</td> <td> 0.018</td> <td>    0.118</td> <td>    1.224</td>\n",
       "</tr>\n",
       "<tr>\n",
       "  <th>absences_g4</th>     <td>    0.8509</td> <td>    0.476</td> <td>    1.789</td> <td> 0.074</td> <td>   -0.084</td> <td>    1.786</td>\n",
       "</tr>\n",
       "<tr>\n",
       "  <th>school_GP</th>       <td>   -0.9879</td> <td>    0.774</td> <td>   -1.277</td> <td> 0.203</td> <td>   -2.509</td> <td>    0.534</td>\n",
       "</tr>\n",
       "<tr>\n",
       "  <th>sex_M</th>           <td>    1.1948</td> <td>    0.471</td> <td>    2.534</td> <td> 0.012</td> <td>    0.268</td> <td>    2.122</td>\n",
       "</tr>\n",
       "<tr>\n",
       "  <th>famsize_GT3</th>     <td>   -0.8864</td> <td>    0.494</td> <td>   -1.796</td> <td> 0.073</td> <td>   -1.857</td> <td>    0.084</td>\n",
       "</tr>\n",
       "<tr>\n",
       "  <th>Pstatus_T</th>       <td>   -0.2405</td> <td>    0.739</td> <td>   -0.326</td> <td> 0.745</td> <td>   -1.693</td> <td>    1.212</td>\n",
       "</tr>\n",
       "<tr>\n",
       "  <th>guardian_mother</th> <td>   -0.1762</td> <td>    0.488</td> <td>   -0.361</td> <td> 0.718</td> <td>   -1.135</td> <td>    0.783</td>\n",
       "</tr>\n",
       "<tr>\n",
       "  <th>higher_yes</th>      <td>    2.1562</td> <td>    1.074</td> <td>    2.008</td> <td> 0.045</td> <td>    0.045</td> <td>    4.267</td>\n",
       "</tr>\n",
       "<tr>\n",
       "  <th>romantic_yes</th>    <td>   -1.1187</td> <td>    0.479</td> <td>   -2.336</td> <td> 0.020</td> <td>   -2.061</td> <td>   -0.177</td>\n",
       "</tr>\n",
       "</table>\n",
       "<table class=\"simpletable\">\n",
       "<tr>\n",
       "  <th>Omnibus:</th>       <td>24.662</td> <th>  Durbin-Watson:     </th> <td>   2.061</td>\n",
       "</tr>\n",
       "<tr>\n",
       "  <th>Prob(Omnibus):</th> <td> 0.000</td> <th>  Jarque-Bera (JB):  </th> <td>  27.730</td>\n",
       "</tr>\n",
       "<tr>\n",
       "  <th>Skew:</th>          <td>-0.644</td> <th>  Prob(JB):          </th> <td>9.52e-07</td>\n",
       "</tr>\n",
       "<tr>\n",
       "  <th>Kurtosis:</th>      <td> 3.158</td> <th>  Cond. No.          </th> <td>    344.</td>\n",
       "</tr>\n",
       "</table><br/><br/>Notes:<br/>[1] Standard Errors assume that the covariance matrix of the errors is correctly specified."
      ],
      "text/plain": [
       "<class 'statsmodels.iolib.summary.Summary'>\n",
       "\"\"\"\n",
       "                            OLS Regression Results                            \n",
       "==============================================================================\n",
       "Dep. Variable:                     G3   R-squared:                       0.135\n",
       "Model:                            OLS   Adj. R-squared:                  0.106\n",
       "Method:                 Least Squares   F-statistic:                     4.582\n",
       "Date:                Tue, 29 Mar 2022   Prob (F-statistic):           2.55e-07\n",
       "Time:                        21:11:06   Log-Likelihood:                -1132.5\n",
       "No. Observations:                 395   AIC:                             2293.\n",
       "Df Residuals:                     381   BIC:                             2349.\n",
       "Df Model:                          13                                         \n",
       "Covariance Type:            nonrobust                                         \n",
       "===================================================================================\n",
       "                      coef    std err          t      P>|t|      [0.025      0.975]\n",
       "-----------------------------------------------------------------------------------\n",
       "Intercept          14.9979      4.241      3.537      0.000       6.659      23.336\n",
       "age                -0.4571      0.198     -2.303      0.022      -0.847      -0.067\n",
       "Medu                0.5948      0.268      2.220      0.027       0.068       1.121\n",
       "Fedu                0.0686      0.264      0.260      0.795      -0.451       0.588\n",
       "traveltime         -0.5861      0.330     -1.775      0.077      -1.235       0.063\n",
       "studytime           0.6709      0.281      2.385      0.018       0.118       1.224\n",
       "absences_g4         0.8509      0.476      1.789      0.074      -0.084       1.786\n",
       "school_GP          -0.9879      0.774     -1.277      0.203      -2.509       0.534\n",
       "sex_M               1.1948      0.471      2.534      0.012       0.268       2.122\n",
       "famsize_GT3        -0.8864      0.494     -1.796      0.073      -1.857       0.084\n",
       "Pstatus_T          -0.2405      0.739     -0.326      0.745      -1.693       1.212\n",
       "guardian_mother    -0.1762      0.488     -0.361      0.718      -1.135       0.783\n",
       "higher_yes          2.1562      1.074      2.008      0.045       0.045       4.267\n",
       "romantic_yes       -1.1187      0.479     -2.336      0.020      -2.061      -0.177\n",
       "==============================================================================\n",
       "Omnibus:                       24.662   Durbin-Watson:                   2.061\n",
       "Prob(Omnibus):                  0.000   Jarque-Bera (JB):               27.730\n",
       "Skew:                          -0.644   Prob(JB):                     9.52e-07\n",
       "Kurtosis:                       3.158   Cond. No.                         344.\n",
       "==============================================================================\n",
       "\n",
       "Notes:\n",
       "[1] Standard Errors assume that the covariance matrix of the errors is correctly specified.\n",
       "\"\"\""
      ]
     },
     "execution_count": 90,
     "metadata": {},
     "output_type": "execute_result"
    }
   ],
   "source": [
    "# Linear regression for math data\n",
    "grade_math_ols_vars = \"G3 ~ age + Medu + Fedu + traveltime + studytime + absences_g4 + school_GP + sex_M + famsize_GT3 + Pstatus_T + guardian_mother + higher_yes + romantic_yes\"\n",
    "grade_math_ols = ols(grade_math_ols_vars, data_math_ols).fit()\n",
    "grade_math_ols.summary()"
   ]
  },
  {
   "cell_type": "markdown",
   "id": "aafdd92c",
   "metadata": {},
   "source": [
    "Math linear regression interpretation:\n",
    "- Meaning of adjusted R-squared:\n",
    "    - This model explains 10.6% of the variation in the 'G3' dependent variable\n",
    "- Meaning of coefficient and p-value (at a 95% significance level) for each variable:\n",
    "    - Age\n",
    "        - Statistically significant\n",
    "        - For an increase of 1 year in a student's age, the student's grade is expected to decrease by around 0.46\n",
    "    - Mother education\n",
    "        - Statistically significant\n",
    "        - For an increase of 1 in the mother's education level (goes from 0 to 4), the student's grade is expected to increase by around 0.59\n",
    "    - Father education\n",
    "        - Not statistically significant\n",
    "    - Travel time\n",
    "        - Not statistically significant\n",
    "    - Study time\n",
    "        - Statistically significant\n",
    "        - For an increase of 1 in study time level (goes from 1 to 4), the student's grade is expected to increase by around 0.67\n",
    "    - Number of absences (greater than 4)\n",
    "        - Not statistically significant\n",
    "    - School\n",
    "        - Not statistically significant\n",
    "    - Gender\n",
    "        - Statistically significant\n",
    "        - If male, the student's grade is expected to increase by 1.19\n",
    "    - Family size (greater than 3 elements)\n",
    "        - Not statistically significant\n",
    "    - Parent's relationship status\n",
    "        - Not statistically significant\n",
    "    - Guardian (mother or someone else)\n",
    "        - Not statistically significant\n",
    "    - Higher education ambition\n",
    "        - Statistically significant\n",
    "        - If pursuing higher education after high school, the student's grade is expected to increase by around 2.16\n",
    "    - Romantic relationship\n",
    "        - Statistically significant\n",
    "        - If engaged in a romantic relationship, the student's grade is expected to decrease by 1.12"
   ]
  },
  {
   "cell_type": "code",
   "execution_count": 82,
   "id": "6a76bae7",
   "metadata": {},
   "outputs": [
    {
     "data": {
      "text/html": [
       "<table class=\"simpletable\">\n",
       "<caption>OLS Regression Results</caption>\n",
       "<tr>\n",
       "  <th>Dep. Variable:</th>           <td>G3</td>        <th>  R-squared:         </th> <td>   0.237</td>\n",
       "</tr>\n",
       "<tr>\n",
       "  <th>Model:</th>                   <td>OLS</td>       <th>  Adj. R-squared:    </th> <td>   0.222</td>\n",
       "</tr>\n",
       "<tr>\n",
       "  <th>Method:</th>             <td>Least Squares</td>  <th>  F-statistic:       </th> <td>   15.20</td>\n",
       "</tr>\n",
       "<tr>\n",
       "  <th>Date:</th>             <td>Tue, 29 Mar 2022</td> <th>  Prob (F-statistic):</th> <td>3.59e-30</td>\n",
       "</tr>\n",
       "<tr>\n",
       "  <th>Time:</th>                 <td>20:58:53</td>     <th>  Log-Likelihood:    </th> <td> -1593.5</td>\n",
       "</tr>\n",
       "<tr>\n",
       "  <th>No. Observations:</th>      <td>   649</td>      <th>  AIC:               </th> <td>   3215.</td>\n",
       "</tr>\n",
       "<tr>\n",
       "  <th>Df Residuals:</th>          <td>   635</td>      <th>  BIC:               </th> <td>   3278.</td>\n",
       "</tr>\n",
       "<tr>\n",
       "  <th>Df Model:</th>              <td>    13</td>      <th>                     </th>     <td> </td>   \n",
       "</tr>\n",
       "<tr>\n",
       "  <th>Covariance Type:</th>      <td>nonrobust</td>    <th>                     </th>     <td> </td>   \n",
       "</tr>\n",
       "</table>\n",
       "<table class=\"simpletable\">\n",
       "<tr>\n",
       "         <td></td>            <th>coef</th>     <th>std err</th>      <th>t</th>      <th>P>|t|</th>  <th>[0.025</th>    <th>0.975]</th>  \n",
       "</tr>\n",
       "<tr>\n",
       "  <th>Intercept</th>       <td>    7.6842</td> <td>    1.848</td> <td>    4.157</td> <td> 0.000</td> <td>    4.055</td> <td>   11.314</td>\n",
       "</tr>\n",
       "<tr>\n",
       "  <th>age</th>             <td>    0.0025</td> <td>    0.098</td> <td>    0.026</td> <td> 0.979</td> <td>   -0.189</td> <td>    0.194</td>\n",
       "</tr>\n",
       "<tr>\n",
       "  <th>Medu</th>            <td>    0.3036</td> <td>    0.136</td> <td>    2.233</td> <td> 0.026</td> <td>    0.037</td> <td>    0.571</td>\n",
       "</tr>\n",
       "<tr>\n",
       "  <th>Fedu</th>            <td>    0.1634</td> <td>    0.136</td> <td>    1.199</td> <td> 0.231</td> <td>   -0.104</td> <td>    0.431</td>\n",
       "</tr>\n",
       "<tr>\n",
       "  <th>traveltime</th>      <td>   -0.0365</td> <td>    0.159</td> <td>   -0.230</td> <td> 0.819</td> <td>   -0.349</td> <td>    0.276</td>\n",
       "</tr>\n",
       "<tr>\n",
       "  <th>studytime</th>       <td>    0.5191</td> <td>    0.143</td> <td>    3.629</td> <td> 0.000</td> <td>    0.238</td> <td>    0.800</td>\n",
       "</tr>\n",
       "<tr>\n",
       "  <th>absences_g4</th>     <td>   -0.3223</td> <td>    0.257</td> <td>   -1.256</td> <td> 0.209</td> <td>   -0.826</td> <td>    0.181</td>\n",
       "</tr>\n",
       "<tr>\n",
       "  <th>school_GP</th>       <td>    1.4241</td> <td>    0.255</td> <td>    5.592</td> <td> 0.000</td> <td>    0.924</td> <td>    1.924</td>\n",
       "</tr>\n",
       "<tr>\n",
       "  <th>sex_M</th>           <td>   -0.9068</td> <td>    0.241</td> <td>   -3.764</td> <td> 0.000</td> <td>   -1.380</td> <td>   -0.434</td>\n",
       "</tr>\n",
       "<tr>\n",
       "  <th>famsize_GT3</th>     <td>   -0.5161</td> <td>    0.255</td> <td>   -2.023</td> <td> 0.044</td> <td>   -1.017</td> <td>   -0.015</td>\n",
       "</tr>\n",
       "<tr>\n",
       "  <th>Pstatus_T</th>       <td>    0.2460</td> <td>    0.356</td> <td>    0.690</td> <td> 0.490</td> <td>   -0.454</td> <td>    0.946</td>\n",
       "</tr>\n",
       "<tr>\n",
       "  <th>guardian_mother</th> <td>   -0.3092</td> <td>    0.250</td> <td>   -1.237</td> <td> 0.217</td> <td>   -0.800</td> <td>    0.182</td>\n",
       "</tr>\n",
       "<tr>\n",
       "  <th>higher_yes</th>      <td>    2.3939</td> <td>    0.395</td> <td>    6.065</td> <td> 0.000</td> <td>    1.619</td> <td>    3.169</td>\n",
       "</tr>\n",
       "<tr>\n",
       "  <th>romantic_yes</th>    <td>   -0.3971</td> <td>    0.239</td> <td>   -1.662</td> <td> 0.097</td> <td>   -0.866</td> <td>    0.072</td>\n",
       "</tr>\n",
       "</table>\n",
       "<table class=\"simpletable\">\n",
       "<tr>\n",
       "  <th>Omnibus:</th>       <td>105.368</td> <th>  Durbin-Watson:     </th> <td>   1.854</td>\n",
       "</tr>\n",
       "<tr>\n",
       "  <th>Prob(Omnibus):</th> <td> 0.000</td>  <th>  Jarque-Bera (JB):  </th> <td> 277.456</td>\n",
       "</tr>\n",
       "<tr>\n",
       "  <th>Skew:</th>          <td>-0.825</td>  <th>  Prob(JB):          </th> <td>5.64e-61</td>\n",
       "</tr>\n",
       "<tr>\n",
       "  <th>Kurtosis:</th>      <td> 5.745</td>  <th>  Cond. No.          </th> <td>    289.</td>\n",
       "</tr>\n",
       "</table><br/><br/>Notes:<br/>[1] Standard Errors assume that the covariance matrix of the errors is correctly specified."
      ],
      "text/plain": [
       "<class 'statsmodels.iolib.summary.Summary'>\n",
       "\"\"\"\n",
       "                            OLS Regression Results                            \n",
       "==============================================================================\n",
       "Dep. Variable:                     G3   R-squared:                       0.237\n",
       "Model:                            OLS   Adj. R-squared:                  0.222\n",
       "Method:                 Least Squares   F-statistic:                     15.20\n",
       "Date:                Tue, 29 Mar 2022   Prob (F-statistic):           3.59e-30\n",
       "Time:                        20:58:53   Log-Likelihood:                -1593.5\n",
       "No. Observations:                 649   AIC:                             3215.\n",
       "Df Residuals:                     635   BIC:                             3278.\n",
       "Df Model:                          13                                         \n",
       "Covariance Type:            nonrobust                                         \n",
       "===================================================================================\n",
       "                      coef    std err          t      P>|t|      [0.025      0.975]\n",
       "-----------------------------------------------------------------------------------\n",
       "Intercept           7.6842      1.848      4.157      0.000       4.055      11.314\n",
       "age                 0.0025      0.098      0.026      0.979      -0.189       0.194\n",
       "Medu                0.3036      0.136      2.233      0.026       0.037       0.571\n",
       "Fedu                0.1634      0.136      1.199      0.231      -0.104       0.431\n",
       "traveltime         -0.0365      0.159     -0.230      0.819      -0.349       0.276\n",
       "studytime           0.5191      0.143      3.629      0.000       0.238       0.800\n",
       "absences_g4        -0.3223      0.257     -1.256      0.209      -0.826       0.181\n",
       "school_GP           1.4241      0.255      5.592      0.000       0.924       1.924\n",
       "sex_M              -0.9068      0.241     -3.764      0.000      -1.380      -0.434\n",
       "famsize_GT3        -0.5161      0.255     -2.023      0.044      -1.017      -0.015\n",
       "Pstatus_T           0.2460      0.356      0.690      0.490      -0.454       0.946\n",
       "guardian_mother    -0.3092      0.250     -1.237      0.217      -0.800       0.182\n",
       "higher_yes          2.3939      0.395      6.065      0.000       1.619       3.169\n",
       "romantic_yes       -0.3971      0.239     -1.662      0.097      -0.866       0.072\n",
       "==============================================================================\n",
       "Omnibus:                      105.368   Durbin-Watson:                   1.854\n",
       "Prob(Omnibus):                  0.000   Jarque-Bera (JB):              277.456\n",
       "Skew:                          -0.825   Prob(JB):                     5.64e-61\n",
       "Kurtosis:                       5.745   Cond. No.                         289.\n",
       "==============================================================================\n",
       "\n",
       "Notes:\n",
       "[1] Standard Errors assume that the covariance matrix of the errors is correctly specified.\n",
       "\"\"\""
      ]
     },
     "execution_count": 82,
     "metadata": {},
     "output_type": "execute_result"
    }
   ],
   "source": [
    "# Linear regression for portuguese data\n",
    "grade_port_ols_vars = \"G3 ~ age + Medu + Fedu + traveltime + studytime + absences_g4 + school_GP + sex_M + famsize_GT3 + Pstatus_T + guardian_mother + higher_yes + romantic_yes\"\n",
    "grade_port_ols = ols(grade_port_ols_vars, data_port_ols).fit()\n",
    "grade_port_ols.summary()"
   ]
  },
  {
   "cell_type": "markdown",
   "id": "cea53b29",
   "metadata": {},
   "source": [
    "Portuguese linear regression interpretation:\n",
    "- Meaning of adjusted R-squared:\n",
    "    - This model explains 22.2% of the variation in the 'G3' dependent variable\n",
    "- Meaning of coefficient and p-value (at a 95% significance level) for each variable:\n",
    "    - Age\n",
    "        - Not statistically significant\n",
    "    - Mother education\n",
    "        - Statistically significant\n",
    "        - For an increase of 1 in the mother's education level (goes from 0 to 4), the student's grade is expected to increase by around 0.30\n",
    "    - Father education\n",
    "        - Not statistically significant\n",
    "    - Travel time\n",
    "        - Not statistically significant\n",
    "    - Study time\n",
    "        - Statistically significant\n",
    "        - For an increase of 1 in study time level (goes from 1 to 4), the student's grade is expected to increase by around 0.52\n",
    "    - Number of absences (greater than 4)\n",
    "        - Not statistically significant\n",
    "    - School\n",
    "        - Statistically significant\n",
    "        - If attending the 'GP' school, the student's grade is expected to increase by 1.42\n",
    "    - Gender\n",
    "        - Statistically significant\n",
    "        - If male, the student's grade is expected to decrease by 0.91\n",
    "    - Family size (greater than 3 elements)\n",
    "        - Statistically significant\n",
    "        - If a part of a big family (greater than 3 elements), the student's grade is expected to decrease by 0.52\n",
    "    - Parent's relationship status\n",
    "        - Not statistically significant\n",
    "    - Guardian (mother or someone else)\n",
    "        - Not statistically significant\n",
    "    - Higher education ambition\n",
    "        - Statistically significant\n",
    "        - If pursuing higher education after high school, the student's grade is expected to increase by around 2.39\n",
    "    - Romantic relationship\n",
    "        - Not statistically significant"
   ]
  },
  {
   "cell_type": "markdown",
   "id": "d66d22e7",
   "metadata": {},
   "source": [
    "LOGISTIC REGRESSION"
   ]
  },
  {
   "cell_type": "markdown",
   "id": "2fa6bade",
   "metadata": {},
   "source": [
    "Create new column for pass (>=10) or fail (<10) final grade."
   ]
  },
  {
   "cell_type": "code",
   "execution_count": 104,
   "id": "f859e8a5",
   "metadata": {},
   "outputs": [],
   "source": [
    "def pass_fail(row):\n",
    "    # If final grade is at least 10\n",
    "    if row['G3'] >= 10:\n",
    "        return 1\n",
    "    # If final grade is less than 10\n",
    "    else:\n",
    "        return 0\n",
    "\n",
    "data_math['passed'] = data_math.apply(lambda row: pass_fail(row), axis=1)\n",
    "data_port['passed'] = data_port.apply(lambda row: pass_fail(row), axis=1)"
   ]
  },
  {
   "cell_type": "markdown",
   "id": "9f995a93",
   "metadata": {},
   "source": [
    "Transform categorical variables into dummies to be included in linear regression"
   ]
  },
  {
   "cell_type": "code",
   "execution_count": 105,
   "id": "c2323c8b",
   "metadata": {},
   "outputs": [],
   "source": [
    "data_math_logreg = pd.get_dummies(data_math)\n",
    "data_port_logreg = pd.get_dummies(data_port)"
   ]
  },
  {
   "cell_type": "markdown",
   "id": "9de4dae2",
   "metadata": {},
   "source": [
    "Perform logistic regression for math students"
   ]
  },
  {
   "cell_type": "code",
   "execution_count": 108,
   "id": "70cdbc93",
   "metadata": {},
   "outputs": [
    {
     "name": "stdout",
     "output_type": "stream",
     "text": [
      "Optimization terminated successfully.\n",
      "         Current function value: 0.594822\n",
      "         Iterations 5\n"
     ]
    },
    {
     "data": {
      "text/html": [
       "<table class=\"simpletable\">\n",
       "<caption>Logit Regression Results</caption>\n",
       "<tr>\n",
       "  <th>Dep. Variable:</th>        <td>passed</td>      <th>  No. Observations:  </th>  <td>   395</td> \n",
       "</tr>\n",
       "<tr>\n",
       "  <th>Model:</th>                 <td>Logit</td>      <th>  Df Residuals:      </th>  <td>   381</td> \n",
       "</tr>\n",
       "<tr>\n",
       "  <th>Method:</th>                 <td>MLE</td>       <th>  Df Model:          </th>  <td>    13</td> \n",
       "</tr>\n",
       "<tr>\n",
       "  <th>Date:</th>            <td>Wed, 30 Mar 2022</td> <th>  Pseudo R-squ.:     </th>  <td>0.06113</td>\n",
       "</tr>\n",
       "<tr>\n",
       "  <th>Time:</th>                <td>12:47:48</td>     <th>  Log-Likelihood:    </th> <td> -234.95</td>\n",
       "</tr>\n",
       "<tr>\n",
       "  <th>converged:</th>             <td>True</td>       <th>  LL-Null:           </th> <td> -250.25</td>\n",
       "</tr>\n",
       "<tr>\n",
       "  <th>Covariance Type:</th>     <td>nonrobust</td>    <th>  LLR p-value:       </th> <td>0.003864</td>\n",
       "</tr>\n",
       "</table>\n",
       "<table class=\"simpletable\">\n",
       "<tr>\n",
       "         <td></td>            <th>coef</th>     <th>std err</th>      <th>z</th>      <th>P>|z|</th>  <th>[0.025</th>    <th>0.975]</th>  \n",
       "</tr>\n",
       "<tr>\n",
       "  <th>Intercept</th>       <td>    4.1541</td> <td>    2.168</td> <td>    1.916</td> <td> 0.055</td> <td>   -0.095</td> <td>    8.403</td>\n",
       "</tr>\n",
       "<tr>\n",
       "  <th>age</th>             <td>   -0.2679</td> <td>    0.103</td> <td>   -2.596</td> <td> 0.009</td> <td>   -0.470</td> <td>   -0.066</td>\n",
       "</tr>\n",
       "<tr>\n",
       "  <th>Medu</th>            <td>    0.0975</td> <td>    0.137</td> <td>    0.711</td> <td> 0.477</td> <td>   -0.171</td> <td>    0.366</td>\n",
       "</tr>\n",
       "<tr>\n",
       "  <th>Fedu</th>            <td>    0.0720</td> <td>    0.136</td> <td>    0.530</td> <td> 0.596</td> <td>   -0.194</td> <td>    0.338</td>\n",
       "</tr>\n",
       "<tr>\n",
       "  <th>traveltime</th>      <td>   -0.0679</td> <td>    0.167</td> <td>   -0.407</td> <td> 0.684</td> <td>   -0.395</td> <td>    0.259</td>\n",
       "</tr>\n",
       "<tr>\n",
       "  <th>studytime</th>       <td>    0.2647</td> <td>    0.151</td> <td>    1.750</td> <td> 0.080</td> <td>   -0.032</td> <td>    0.561</td>\n",
       "</tr>\n",
       "<tr>\n",
       "  <th>absences_g4</th>     <td>   -0.1530</td> <td>    0.241</td> <td>   -0.634</td> <td> 0.526</td> <td>   -0.626</td> <td>    0.320</td>\n",
       "</tr>\n",
       "<tr>\n",
       "  <th>school_GP</th>       <td>   -0.3490</td> <td>    0.383</td> <td>   -0.911</td> <td> 0.362</td> <td>   -1.100</td> <td>    0.402</td>\n",
       "</tr>\n",
       "<tr>\n",
       "  <th>sex_M</th>           <td>    0.4670</td> <td>    0.247</td> <td>    1.894</td> <td> 0.058</td> <td>   -0.016</td> <td>    0.950</td>\n",
       "</tr>\n",
       "<tr>\n",
       "  <th>famsize_GT3</th>     <td>   -0.2406</td> <td>    0.255</td> <td>   -0.943</td> <td> 0.346</td> <td>   -0.741</td> <td>    0.260</td>\n",
       "</tr>\n",
       "<tr>\n",
       "  <th>Pstatus_T</th>       <td>   -0.2865</td> <td>    0.396</td> <td>   -0.724</td> <td> 0.469</td> <td>   -1.062</td> <td>    0.489</td>\n",
       "</tr>\n",
       "<tr>\n",
       "  <th>guardian_mother</th> <td>   -0.0690</td> <td>    0.251</td> <td>   -0.275</td> <td> 0.783</td> <td>   -0.561</td> <td>    0.423</td>\n",
       "</tr>\n",
       "<tr>\n",
       "  <th>higher_yes</th>      <td>    0.9618</td> <td>    0.531</td> <td>    1.812</td> <td> 0.070</td> <td>   -0.078</td> <td>    2.002</td>\n",
       "</tr>\n",
       "<tr>\n",
       "  <th>romantic_yes</th>    <td>   -0.2911</td> <td>    0.240</td> <td>   -1.214</td> <td> 0.225</td> <td>   -0.761</td> <td>    0.179</td>\n",
       "</tr>\n",
       "</table>"
      ],
      "text/plain": [
       "<class 'statsmodels.iolib.summary.Summary'>\n",
       "\"\"\"\n",
       "                           Logit Regression Results                           \n",
       "==============================================================================\n",
       "Dep. Variable:                 passed   No. Observations:                  395\n",
       "Model:                          Logit   Df Residuals:                      381\n",
       "Method:                           MLE   Df Model:                           13\n",
       "Date:                Wed, 30 Mar 2022   Pseudo R-squ.:                 0.06113\n",
       "Time:                        12:47:48   Log-Likelihood:                -234.95\n",
       "converged:                       True   LL-Null:                       -250.25\n",
       "Covariance Type:            nonrobust   LLR p-value:                  0.003864\n",
       "===================================================================================\n",
       "                      coef    std err          z      P>|z|      [0.025      0.975]\n",
       "-----------------------------------------------------------------------------------\n",
       "Intercept           4.1541      2.168      1.916      0.055      -0.095       8.403\n",
       "age                -0.2679      0.103     -2.596      0.009      -0.470      -0.066\n",
       "Medu                0.0975      0.137      0.711      0.477      -0.171       0.366\n",
       "Fedu                0.0720      0.136      0.530      0.596      -0.194       0.338\n",
       "traveltime         -0.0679      0.167     -0.407      0.684      -0.395       0.259\n",
       "studytime           0.2647      0.151      1.750      0.080      -0.032       0.561\n",
       "absences_g4        -0.1530      0.241     -0.634      0.526      -0.626       0.320\n",
       "school_GP          -0.3490      0.383     -0.911      0.362      -1.100       0.402\n",
       "sex_M               0.4670      0.247      1.894      0.058      -0.016       0.950\n",
       "famsize_GT3        -0.2406      0.255     -0.943      0.346      -0.741       0.260\n",
       "Pstatus_T          -0.2865      0.396     -0.724      0.469      -1.062       0.489\n",
       "guardian_mother    -0.0690      0.251     -0.275      0.783      -0.561       0.423\n",
       "higher_yes          0.9618      0.531      1.812      0.070      -0.078       2.002\n",
       "romantic_yes       -0.2911      0.240     -1.214      0.225      -0.761       0.179\n",
       "===================================================================================\n",
       "\"\"\""
      ]
     },
     "execution_count": 108,
     "metadata": {},
     "output_type": "execute_result"
    }
   ],
   "source": [
    "grade_math_logreg_vars = \"\"\"passed ~ age + Medu + Fedu + traveltime + studytime + absences_g4 + school_GP + sex_M + famsize_GT3 + Pstatus_T + guardian_mother + higher_yes + romantic_yes\"\"\"\n",
    "pass_math_predict = logit(grade_math_logreg_vars, data_math_logreg).fit()\n",
    "pass_math_predict.summary()"
   ]
  },
  {
   "cell_type": "code",
   "execution_count": 107,
   "id": "7cba14f5",
   "metadata": {},
   "outputs": [
    {
     "data": {
      "text/plain": [
       "Intercept          63.693712\n",
       "age                 0.764963\n",
       "Medu                1.102426\n",
       "Fedu                1.074687\n",
       "traveltime          0.934312\n",
       "studytime           1.303041\n",
       "absences_g4         0.858139\n",
       "school_GP           0.705388\n",
       "sex_M               1.595190\n",
       "famsize_GT3         0.786122\n",
       "Pstatus_T           0.750883\n",
       "guardian_mother     0.933315\n",
       "higher_yes          2.616489\n",
       "romantic_yes        0.747415\n",
       "dtype: float64"
      ]
     },
     "execution_count": 107,
     "metadata": {},
     "output_type": "execute_result"
    }
   ],
   "source": [
    "# Exponentiate coefficients to get a meaning out of them9\n",
    "np.exp(pass_math_predict.params)"
   ]
  },
  {
   "cell_type": "markdown",
   "id": "800d2af0",
   "metadata": {},
   "source": [
    "Math logistic regression interpretation:\n",
    "- Meaning of pseudo R-squared:\n",
    "    - This model explains 6.1% of the variation in the 'passed' dependent variable\n",
    "- Meaning of odds ratios and p-value (at a 95% significance level) for each variable:\n",
    "    - Age\n",
    "        - Statistically significant\n",
    "        - For every additional year in age, a student is around 0.76 times as likely to pass math when compared to others\n",
    "    - Mother education\n",
    "        - Not statistically significant\n",
    "    - Father education\n",
    "        - Not statistically significant\n",
    "    - Travel time\n",
    "        - Not statistically significant\n",
    "    - Study time\n",
    "        - Not statistically significant\n",
    "    - Number of absences (greater than 4)\n",
    "        - Not statistically significant\n",
    "    - School\n",
    "        - Not statistically significant\n",
    "    - Gender\n",
    "        - Not statistically significant\n",
    "    - Family size (greater than 3 elements)\n",
    "        - Not statistically significant\n",
    "    - Parent's relationship status\n",
    "        - Not statistically significant\n",
    "    - Guardian (mother or someone else)\n",
    "        - Not statistically significant\n",
    "    - Higher education ambition\n",
    "        - Not statistically significant\n",
    "    - Romantic relationship\n",
    "        - Not statistically significant"
   ]
  },
  {
   "cell_type": "code",
   "execution_count": 109,
   "id": "b74fee89",
   "metadata": {},
   "outputs": [
    {
     "name": "stdout",
     "output_type": "stream",
     "text": [
      "Optimization terminated successfully.\n",
      "         Current function value: 0.338154\n",
      "         Iterations 7\n"
     ]
    },
    {
     "data": {
      "text/html": [
       "<table class=\"simpletable\">\n",
       "<caption>Logit Regression Results</caption>\n",
       "<tr>\n",
       "  <th>Dep. Variable:</th>        <td>passed</td>      <th>  No. Observations:  </th>  <td>   649</td>  \n",
       "</tr>\n",
       "<tr>\n",
       "  <th>Model:</th>                 <td>Logit</td>      <th>  Df Residuals:      </th>  <td>   635</td>  \n",
       "</tr>\n",
       "<tr>\n",
       "  <th>Method:</th>                 <td>MLE</td>       <th>  Df Model:          </th>  <td>    13</td>  \n",
       "</tr>\n",
       "<tr>\n",
       "  <th>Date:</th>            <td>Wed, 30 Mar 2022</td> <th>  Pseudo R-squ.:     </th>  <td>0.2131</td>  \n",
       "</tr>\n",
       "<tr>\n",
       "  <th>Time:</th>                <td>12:49:54</td>     <th>  Log-Likelihood:    </th> <td> -219.46</td> \n",
       "</tr>\n",
       "<tr>\n",
       "  <th>converged:</th>             <td>True</td>       <th>  LL-Null:           </th> <td> -278.89</td> \n",
       "</tr>\n",
       "<tr>\n",
       "  <th>Covariance Type:</th>     <td>nonrobust</td>    <th>  LLR p-value:       </th> <td>3.379e-19</td>\n",
       "</tr>\n",
       "</table>\n",
       "<table class=\"simpletable\">\n",
       "<tr>\n",
       "         <td></td>            <th>coef</th>     <th>std err</th>      <th>z</th>      <th>P>|z|</th>  <th>[0.025</th>    <th>0.975]</th>  \n",
       "</tr>\n",
       "<tr>\n",
       "  <th>Intercept</th>       <td>   -0.0662</td> <td>    1.983</td> <td>   -0.033</td> <td> 0.973</td> <td>   -3.953</td> <td>    3.821</td>\n",
       "</tr>\n",
       "<tr>\n",
       "  <th>age</th>             <td>   -0.0196</td> <td>    0.107</td> <td>   -0.183</td> <td> 0.855</td> <td>   -0.230</td> <td>    0.191</td>\n",
       "</tr>\n",
       "<tr>\n",
       "  <th>Medu</th>            <td>    0.0674</td> <td>    0.148</td> <td>    0.456</td> <td> 0.648</td> <td>   -0.222</td> <td>    0.357</td>\n",
       "</tr>\n",
       "<tr>\n",
       "  <th>Fedu</th>            <td>    0.1290</td> <td>    0.154</td> <td>    0.837</td> <td> 0.402</td> <td>   -0.173</td> <td>    0.431</td>\n",
       "</tr>\n",
       "<tr>\n",
       "  <th>traveltime</th>      <td>    0.1721</td> <td>    0.178</td> <td>    0.969</td> <td> 0.333</td> <td>   -0.176</td> <td>    0.520</td>\n",
       "</tr>\n",
       "<tr>\n",
       "  <th>studytime</th>       <td>    0.2589</td> <td>    0.172</td> <td>    1.508</td> <td> 0.132</td> <td>   -0.078</td> <td>    0.595</td>\n",
       "</tr>\n",
       "<tr>\n",
       "  <th>absences_g4</th>     <td>   -0.5069</td> <td>    0.269</td> <td>   -1.882</td> <td> 0.060</td> <td>   -1.035</td> <td>    0.021</td>\n",
       "</tr>\n",
       "<tr>\n",
       "  <th>school_GP</th>       <td>    1.7561</td> <td>    0.276</td> <td>    6.367</td> <td> 0.000</td> <td>    1.215</td> <td>    2.297</td>\n",
       "</tr>\n",
       "<tr>\n",
       "  <th>sex_M</th>           <td>   -0.6893</td> <td>    0.267</td> <td>   -2.584</td> <td> 0.010</td> <td>   -1.212</td> <td>   -0.166</td>\n",
       "</tr>\n",
       "<tr>\n",
       "  <th>famsize_GT3</th>     <td>   -0.5608</td> <td>    0.298</td> <td>   -1.883</td> <td> 0.060</td> <td>   -1.144</td> <td>    0.023</td>\n",
       "</tr>\n",
       "<tr>\n",
       "  <th>Pstatus_T</th>       <td>    0.1614</td> <td>    0.398</td> <td>    0.406</td> <td> 0.685</td> <td>   -0.618</td> <td>    0.941</td>\n",
       "</tr>\n",
       "<tr>\n",
       "  <th>guardian_mother</th> <td>   -0.6388</td> <td>    0.293</td> <td>   -2.180</td> <td> 0.029</td> <td>   -1.213</td> <td>   -0.065</td>\n",
       "</tr>\n",
       "<tr>\n",
       "  <th>higher_yes</th>      <td>    1.5875</td> <td>    0.329</td> <td>    4.832</td> <td> 0.000</td> <td>    0.944</td> <td>    2.232</td>\n",
       "</tr>\n",
       "<tr>\n",
       "  <th>romantic_yes</th>    <td>   -0.2501</td> <td>    0.257</td> <td>   -0.975</td> <td> 0.330</td> <td>   -0.753</td> <td>    0.253</td>\n",
       "</tr>\n",
       "</table>"
      ],
      "text/plain": [
       "<class 'statsmodels.iolib.summary.Summary'>\n",
       "\"\"\"\n",
       "                           Logit Regression Results                           \n",
       "==============================================================================\n",
       "Dep. Variable:                 passed   No. Observations:                  649\n",
       "Model:                          Logit   Df Residuals:                      635\n",
       "Method:                           MLE   Df Model:                           13\n",
       "Date:                Wed, 30 Mar 2022   Pseudo R-squ.:                  0.2131\n",
       "Time:                        12:49:54   Log-Likelihood:                -219.46\n",
       "converged:                       True   LL-Null:                       -278.89\n",
       "Covariance Type:            nonrobust   LLR p-value:                 3.379e-19\n",
       "===================================================================================\n",
       "                      coef    std err          z      P>|z|      [0.025      0.975]\n",
       "-----------------------------------------------------------------------------------\n",
       "Intercept          -0.0662      1.983     -0.033      0.973      -3.953       3.821\n",
       "age                -0.0196      0.107     -0.183      0.855      -0.230       0.191\n",
       "Medu                0.0674      0.148      0.456      0.648      -0.222       0.357\n",
       "Fedu                0.1290      0.154      0.837      0.402      -0.173       0.431\n",
       "traveltime          0.1721      0.178      0.969      0.333      -0.176       0.520\n",
       "studytime           0.2589      0.172      1.508      0.132      -0.078       0.595\n",
       "absences_g4        -0.5069      0.269     -1.882      0.060      -1.035       0.021\n",
       "school_GP           1.7561      0.276      6.367      0.000       1.215       2.297\n",
       "sex_M              -0.6893      0.267     -2.584      0.010      -1.212      -0.166\n",
       "famsize_GT3        -0.5608      0.298     -1.883      0.060      -1.144       0.023\n",
       "Pstatus_T           0.1614      0.398      0.406      0.685      -0.618       0.941\n",
       "guardian_mother    -0.6388      0.293     -2.180      0.029      -1.213      -0.065\n",
       "higher_yes          1.5875      0.329      4.832      0.000       0.944       2.232\n",
       "romantic_yes       -0.2501      0.257     -0.975      0.330      -0.753       0.253\n",
       "===================================================================================\n",
       "\"\"\""
      ]
     },
     "execution_count": 109,
     "metadata": {},
     "output_type": "execute_result"
    }
   ],
   "source": [
    "grade_port_logreg_vars = \"\"\"passed ~ age + Medu + Fedu + traveltime + studytime + absences_g4 + school_GP + sex_M + famsize_GT3 + Pstatus_T + guardian_mother + higher_yes + romantic_yes\"\"\"\n",
    "pass_port_predict = logit(grade_port_logreg_vars, data_port_logreg).fit()\n",
    "pass_port_predict.summary()"
   ]
  },
  {
   "cell_type": "code",
   "execution_count": 112,
   "id": "92503fb7",
   "metadata": {},
   "outputs": [
    {
     "data": {
      "text/plain": [
       "Intercept          0.935905\n",
       "age                0.980567\n",
       "Medu               1.069713\n",
       "Fedu               1.137679\n",
       "traveltime         1.187805\n",
       "studytime          1.295551\n",
       "absences_g4        0.602352\n",
       "school_GP          5.789529\n",
       "sex_M              0.501943\n",
       "famsize_GT3        0.570776\n",
       "Pstatus_T          1.175169\n",
       "guardian_mother    0.527935\n",
       "higher_yes         4.891675\n",
       "romantic_yes       0.778716\n",
       "dtype: float64"
      ]
     },
     "execution_count": 112,
     "metadata": {},
     "output_type": "execute_result"
    }
   ],
   "source": [
    "# Exponentiate coefficients to get a meaning out of them\n",
    "np.exp(pass_port_predict.params)"
   ]
  },
  {
   "cell_type": "markdown",
   "id": "1f5b89c0",
   "metadata": {},
   "source": [
    "Portuguese logistic regression interpretation:\n",
    "- Meaning of pseudo R-squared:\n",
    "    - This model explains 21.3% of the variation in the 'passed' dependent variable\n",
    "- Meaning of odds ratios and p-value (at a 95% significance level) for each variable:\n",
    "    - Age\n",
    "        - Not statistically significant\n",
    "    - Mother education\n",
    "        - Not statistically significant\n",
    "    - Father education\n",
    "        - Not statistically significant\n",
    "    - Travel time\n",
    "        - Not statistically significant\n",
    "    - Study time\n",
    "        - Not statistically significant\n",
    "    - Number of absences (greater than 4)\n",
    "        - Not statistically significant\n",
    "    - School\n",
    "        - Statistically significant\n",
    "        - A student from the 'GP' school is around 5.79 times as likely to pass portuguese when compared to 'MS' students\n",
    "    - Gender\n",
    "        - Statistically significant\n",
    "        - A male student is around 0.50 times as likely to pass portuguese when compared to a female student\n",
    "    - Family size (greater than 3 elements)\n",
    "        - Not statistically significant\n",
    "    - Parent's relationship status\n",
    "        - Not statistically significant\n",
    "    - Guardian (mother or someone else)\n",
    "        - Statistically significant\n",
    "        - A student whose guardian is their mother is around 0.53 times as likely to pass portuguese when compared to other students\n",
    "    - Higher education ambition\n",
    "        - Statistically significant\n",
    "        - If pursuing higher education after high school, a student is around 4.89 times as likely to pass portuguese when compared to other students\n",
    "    - Romantic relationship\n",
    "        - Not statistically significant"
   ]
  },
  {
   "cell_type": "markdown",
   "id": "9a1c8a05",
   "metadata": {},
   "source": [
    "CONCLUSION"
   ]
  },
  {
   "cell_type": "markdown",
   "id": "abdb9a22",
   "metadata": {},
   "source": [
    "The models built were not very strong in terms of explaining the variation of the dependent variable being analyzed (especially for the math class).\n",
    "\n",
    "- Math class:\n",
    "    - Factors which contributed for a student's success are:\n",
    "        - Being young;\n",
    "        - Mother having a higher education;\n",
    "        - Taking the time to study the subject;\n",
    "        - Being male;\n",
    "        - Having higher education ambition;\n",
    "        - Not being involved in a romantic relationship.\n",
    "    - Factors which contributed for a student to pass the class:\n",
    "        - Being young.\n",
    "- Portuguese class:\n",
    "    - Factors which contributed for a student's success are:\n",
    "        - Mother having a higher education;\n",
    "        - Taking the time to study the subject;\n",
    "        - Attending the class at the 'GP' school;\n",
    "        - Being female;\n",
    "        - Being a part of a small family (with less than 3 elements);\n",
    "        - Having higher education ambition.\n",
    "    - Factors which contributed for a student to pass the class:\n",
    "        - Attending the class at the 'GP' school;\n",
    "        - Being female;\n",
    "        - Having someone besides their mother being their guardian;\n",
    "        - Having higher education ambition."
   ]
  }
 ],
 "metadata": {
  "kernelspec": {
   "display_name": "Python 3 (ipykernel)",
   "language": "python",
   "name": "python3"
  },
  "language_info": {
   "codemirror_mode": {
    "name": "ipython",
    "version": 3
   },
   "file_extension": ".py",
   "mimetype": "text/x-python",
   "name": "python",
   "nbconvert_exporter": "python",
   "pygments_lexer": "ipython3",
   "version": "3.9.7"
  }
 },
 "nbformat": 4,
 "nbformat_minor": 5
}
